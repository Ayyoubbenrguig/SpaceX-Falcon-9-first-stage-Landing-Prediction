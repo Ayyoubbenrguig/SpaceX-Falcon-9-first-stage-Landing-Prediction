{
  "cells": [
    {
      "cell_type": "markdown",
      "metadata": {
        "id": "kg4mqA42EAJu"
      },
      "source": [
        "### **Objective:**\n",
        "####  \n",
        "Perform exploratory Data Analysis and determine Training Labels.\n",
        "\n",
        "    create a column for the class\n",
        "    Standardize the data\n",
        "    Split into training data and test data\n",
        "\n",
        "Find best Hyperparameter for SVM, Classification Trees and Logistic Regression\n",
        "\n",
        "    Find the method performs best using test data\n",
        "\n"
      ]
    },
    {
      "cell_type": "code",
      "execution_count": 1,
      "metadata": {
        "id": "API-ZFQrESBO"
      },
      "outputs": [],
      "source": [
        "import pandas as pd\n",
        "import numpy as np\n",
        "import matplotlib.pyplot as plt\n",
        "import seaborn as sns\n",
        "from sklearn import preprocessing\n",
        "from sklearn.model_selection import train_test_split\n",
        "from sklearn.model_selection import GridSearchCV\n",
        "from sklearn.linear_model import LogisticRegression\n",
        "from sklearn.svm import SVC\n",
        "from sklearn.tree import DecisionTreeClassifier\n",
        "from sklearn.neighbors import KNeighborsClassifier\n",
        "from sklearn.metrics import confusion_matrix\n",
        "\n",
        "import requests\n",
        "import io"
      ]
    },
    {
      "cell_type": "code",
      "execution_count": 2,
      "metadata": {
        "id": "0RF6dcu0Ex9s"
      },
      "outputs": [],
      "source": [
        "def plot_confusion_matrix(y,y_predict):\n",
        "    \"this function plots the confusion matrix\"\n",
        "    cm = confusion_matrix(y, y_predict)\n",
        "    ax= plt.subplot()\n",
        "    sns.heatmap(cm, annot=True, ax = ax); #annot=True to annotate cells\n",
        "    ax.set_xlabel('Predicted labels')\n",
        "    ax.set_ylabel('True labels')\n",
        "    ax.set_title('Confusion Matrix');\n",
        "    ax.xaxis.set_ticklabels(['did not land', 'land']); ax.yaxis.set_ticklabels(['did not land', 'landed'])\n",
        "    plt.show()"
      ]
    },
    {
      "cell_type": "markdown",
      "metadata": {
        "id": "gJDfq2W0WEmE"
      },
      "source": [
        "### Load the Data"
      ]
    },
    {
      "cell_type": "code",
      "execution_count": 3,
      "metadata": {
        "id": "2aNQsfpYEyKg"
      },
      "outputs": [],
      "source": [
        "# Load the dataframe\n",
        "\n",
        "URL1 = \"https://cf-courses-data.s3.us.cloud-object-storage.appdomain.cloud/IBM-DS0321EN-SkillsNetwork/datasets/dataset_part_2.csv\"\n",
        "\n",
        "response = requests.get(URL1)\n",
        "if response.status_code == 200:\n",
        "    SpaceX_data = pd.read_csv(io.StringIO(response.text))\n",
        "else:\n",
        "    print(f\"HTTP GET request failed with status code: {response.status_code}\")"
      ]
    },
    {
      "cell_type": "code",
      "execution_count": 5,
      "metadata": {
        "colab": {
          "base_uri": "https://localhost:8080/",
          "height": 313
        },
        "id": "VWBw4kNWEyaq",
        "outputId": "842c8807-1543-47b9-832f-b611b8914dc2"
      },
      "outputs": [
        {
          "data": {
            "text/html": [
              "<div>\n",
              "<style scoped>\n",
              "    .dataframe tbody tr th:only-of-type {\n",
              "        vertical-align: middle;\n",
              "    }\n",
              "\n",
              "    .dataframe tbody tr th {\n",
              "        vertical-align: top;\n",
              "    }\n",
              "\n",
              "    .dataframe thead th {\n",
              "        text-align: right;\n",
              "    }\n",
              "</style>\n",
              "<table border=\"1\" class=\"dataframe\">\n",
              "  <thead>\n",
              "    <tr style=\"text-align: right;\">\n",
              "      <th></th>\n",
              "      <th>FlightNumber</th>\n",
              "      <th>Date</th>\n",
              "      <th>BoosterVersion</th>\n",
              "      <th>PayloadMass</th>\n",
              "      <th>Orbit</th>\n",
              "      <th>LaunchSite</th>\n",
              "      <th>Outcome</th>\n",
              "      <th>Flights</th>\n",
              "      <th>GridFins</th>\n",
              "      <th>Reused</th>\n",
              "      <th>Legs</th>\n",
              "      <th>LandingPad</th>\n",
              "      <th>Block</th>\n",
              "      <th>ReusedCount</th>\n",
              "      <th>Serial</th>\n",
              "      <th>Longitude</th>\n",
              "      <th>Latitude</th>\n",
              "      <th>Class</th>\n",
              "    </tr>\n",
              "  </thead>\n",
              "  <tbody>\n",
              "    <tr>\n",
              "      <th>0</th>\n",
              "      <td>1</td>\n",
              "      <td>2010-06-04</td>\n",
              "      <td>Falcon 9</td>\n",
              "      <td>6104.959412</td>\n",
              "      <td>LEO</td>\n",
              "      <td>CCAFS SLC 40</td>\n",
              "      <td>None None</td>\n",
              "      <td>1</td>\n",
              "      <td>False</td>\n",
              "      <td>False</td>\n",
              "      <td>False</td>\n",
              "      <td>NaN</td>\n",
              "      <td>1.0</td>\n",
              "      <td>0</td>\n",
              "      <td>B0003</td>\n",
              "      <td>-80.577366</td>\n",
              "      <td>28.561857</td>\n",
              "      <td>0</td>\n",
              "    </tr>\n",
              "    <tr>\n",
              "      <th>1</th>\n",
              "      <td>2</td>\n",
              "      <td>2012-05-22</td>\n",
              "      <td>Falcon 9</td>\n",
              "      <td>525.000000</td>\n",
              "      <td>LEO</td>\n",
              "      <td>CCAFS SLC 40</td>\n",
              "      <td>None None</td>\n",
              "      <td>1</td>\n",
              "      <td>False</td>\n",
              "      <td>False</td>\n",
              "      <td>False</td>\n",
              "      <td>NaN</td>\n",
              "      <td>1.0</td>\n",
              "      <td>0</td>\n",
              "      <td>B0005</td>\n",
              "      <td>-80.577366</td>\n",
              "      <td>28.561857</td>\n",
              "      <td>0</td>\n",
              "    </tr>\n",
              "    <tr>\n",
              "      <th>2</th>\n",
              "      <td>3</td>\n",
              "      <td>2013-03-01</td>\n",
              "      <td>Falcon 9</td>\n",
              "      <td>677.000000</td>\n",
              "      <td>ISS</td>\n",
              "      <td>CCAFS SLC 40</td>\n",
              "      <td>None None</td>\n",
              "      <td>1</td>\n",
              "      <td>False</td>\n",
              "      <td>False</td>\n",
              "      <td>False</td>\n",
              "      <td>NaN</td>\n",
              "      <td>1.0</td>\n",
              "      <td>0</td>\n",
              "      <td>B0007</td>\n",
              "      <td>-80.577366</td>\n",
              "      <td>28.561857</td>\n",
              "      <td>0</td>\n",
              "    </tr>\n",
              "    <tr>\n",
              "      <th>3</th>\n",
              "      <td>4</td>\n",
              "      <td>2013-09-29</td>\n",
              "      <td>Falcon 9</td>\n",
              "      <td>500.000000</td>\n",
              "      <td>PO</td>\n",
              "      <td>VAFB SLC 4E</td>\n",
              "      <td>False Ocean</td>\n",
              "      <td>1</td>\n",
              "      <td>False</td>\n",
              "      <td>False</td>\n",
              "      <td>False</td>\n",
              "      <td>NaN</td>\n",
              "      <td>1.0</td>\n",
              "      <td>0</td>\n",
              "      <td>B1003</td>\n",
              "      <td>-120.610829</td>\n",
              "      <td>34.632093</td>\n",
              "      <td>0</td>\n",
              "    </tr>\n",
              "    <tr>\n",
              "      <th>4</th>\n",
              "      <td>5</td>\n",
              "      <td>2013-12-03</td>\n",
              "      <td>Falcon 9</td>\n",
              "      <td>3170.000000</td>\n",
              "      <td>GTO</td>\n",
              "      <td>CCAFS SLC 40</td>\n",
              "      <td>None None</td>\n",
              "      <td>1</td>\n",
              "      <td>False</td>\n",
              "      <td>False</td>\n",
              "      <td>False</td>\n",
              "      <td>NaN</td>\n",
              "      <td>1.0</td>\n",
              "      <td>0</td>\n",
              "      <td>B1004</td>\n",
              "      <td>-80.577366</td>\n",
              "      <td>28.561857</td>\n",
              "      <td>0</td>\n",
              "    </tr>\n",
              "  </tbody>\n",
              "</table>\n",
              "</div>"
            ],
            "text/plain": [
              "   FlightNumber        Date BoosterVersion  PayloadMass Orbit    LaunchSite  \\\n",
              "0             1  2010-06-04       Falcon 9  6104.959412   LEO  CCAFS SLC 40   \n",
              "1             2  2012-05-22       Falcon 9   525.000000   LEO  CCAFS SLC 40   \n",
              "2             3  2013-03-01       Falcon 9   677.000000   ISS  CCAFS SLC 40   \n",
              "3             4  2013-09-29       Falcon 9   500.000000    PO   VAFB SLC 4E   \n",
              "4             5  2013-12-03       Falcon 9  3170.000000   GTO  CCAFS SLC 40   \n",
              "\n",
              "       Outcome  Flights  GridFins  Reused   Legs LandingPad  Block  \\\n",
              "0    None None        1     False   False  False        NaN    1.0   \n",
              "1    None None        1     False   False  False        NaN    1.0   \n",
              "2    None None        1     False   False  False        NaN    1.0   \n",
              "3  False Ocean        1     False   False  False        NaN    1.0   \n",
              "4    None None        1     False   False  False        NaN    1.0   \n",
              "\n",
              "   ReusedCount Serial   Longitude   Latitude  Class  \n",
              "0            0  B0003  -80.577366  28.561857      0  \n",
              "1            0  B0005  -80.577366  28.561857      0  \n",
              "2            0  B0007  -80.577366  28.561857      0  \n",
              "3            0  B1003 -120.610829  34.632093      0  \n",
              "4            0  B1004  -80.577366  28.561857      0  "
            ]
          },
          "execution_count": 5,
          "metadata": {},
          "output_type": "execute_result"
        }
      ],
      "source": [
        "SpaceX_data.head()"
      ]
    },
    {
      "cell_type": "code",
      "execution_count": 6,
      "metadata": {
        "id": "TJg63eOrEycg"
      },
      "outputs": [],
      "source": [
        "URL2 = 'https://cf-courses-data.s3.us.cloud-object-storage.appdomain.cloud/IBM-DS0321EN-SkillsNetwork/datasets/dataset_part_3.csv'\n",
        "response = requests.get(URL2)\n",
        "if response.status_code == 200:\n",
        "    Data = pd.read_csv(io.StringIO(response.text))\n",
        "else:\n",
        "    print(f\"HTTP GET request failed with status code: {response.status_code}\")"
      ]
    },
    {
      "cell_type": "markdown",
      "metadata": {
        "id": "JkB94XWyAhNk"
      },
      "source": [
        "## Preprocessing Data"
      ]
    },
    {
      "cell_type": "code",
      "execution_count": 7,
      "metadata": {
        "colab": {
          "base_uri": "https://localhost:8080/",
          "height": 273
        },
        "id": "R18ki4VLCeJg",
        "outputId": "bb42060d-8c90-490c-f959-b0d198a873fa"
      },
      "outputs": [
        {
          "data": {
            "text/html": [
              "<div>\n",
              "<style scoped>\n",
              "    .dataframe tbody tr th:only-of-type {\n",
              "        vertical-align: middle;\n",
              "    }\n",
              "\n",
              "    .dataframe tbody tr th {\n",
              "        vertical-align: top;\n",
              "    }\n",
              "\n",
              "    .dataframe thead th {\n",
              "        text-align: right;\n",
              "    }\n",
              "</style>\n",
              "<table border=\"1\" class=\"dataframe\">\n",
              "  <thead>\n",
              "    <tr style=\"text-align: right;\">\n",
              "      <th></th>\n",
              "      <th>FlightNumber</th>\n",
              "      <th>PayloadMass</th>\n",
              "      <th>Flights</th>\n",
              "      <th>Block</th>\n",
              "      <th>ReusedCount</th>\n",
              "      <th>Orbit_ES-L1</th>\n",
              "      <th>Orbit_GEO</th>\n",
              "      <th>Orbit_GTO</th>\n",
              "      <th>Orbit_HEO</th>\n",
              "      <th>Orbit_ISS</th>\n",
              "      <th>...</th>\n",
              "      <th>Serial_B1058</th>\n",
              "      <th>Serial_B1059</th>\n",
              "      <th>Serial_B1060</th>\n",
              "      <th>Serial_B1062</th>\n",
              "      <th>GridFins_False</th>\n",
              "      <th>GridFins_True</th>\n",
              "      <th>Reused_False</th>\n",
              "      <th>Reused_True</th>\n",
              "      <th>Legs_False</th>\n",
              "      <th>Legs_True</th>\n",
              "    </tr>\n",
              "  </thead>\n",
              "  <tbody>\n",
              "    <tr>\n",
              "      <th>0</th>\n",
              "      <td>1.0</td>\n",
              "      <td>6104.959412</td>\n",
              "      <td>1.0</td>\n",
              "      <td>1.0</td>\n",
              "      <td>0.0</td>\n",
              "      <td>0.0</td>\n",
              "      <td>0.0</td>\n",
              "      <td>0.0</td>\n",
              "      <td>0.0</td>\n",
              "      <td>0.0</td>\n",
              "      <td>...</td>\n",
              "      <td>0.0</td>\n",
              "      <td>0.0</td>\n",
              "      <td>0.0</td>\n",
              "      <td>0.0</td>\n",
              "      <td>1.0</td>\n",
              "      <td>0.0</td>\n",
              "      <td>1.0</td>\n",
              "      <td>0.0</td>\n",
              "      <td>1.0</td>\n",
              "      <td>0.0</td>\n",
              "    </tr>\n",
              "    <tr>\n",
              "      <th>1</th>\n",
              "      <td>2.0</td>\n",
              "      <td>525.000000</td>\n",
              "      <td>1.0</td>\n",
              "      <td>1.0</td>\n",
              "      <td>0.0</td>\n",
              "      <td>0.0</td>\n",
              "      <td>0.0</td>\n",
              "      <td>0.0</td>\n",
              "      <td>0.0</td>\n",
              "      <td>0.0</td>\n",
              "      <td>...</td>\n",
              "      <td>0.0</td>\n",
              "      <td>0.0</td>\n",
              "      <td>0.0</td>\n",
              "      <td>0.0</td>\n",
              "      <td>1.0</td>\n",
              "      <td>0.0</td>\n",
              "      <td>1.0</td>\n",
              "      <td>0.0</td>\n",
              "      <td>1.0</td>\n",
              "      <td>0.0</td>\n",
              "    </tr>\n",
              "    <tr>\n",
              "      <th>2</th>\n",
              "      <td>3.0</td>\n",
              "      <td>677.000000</td>\n",
              "      <td>1.0</td>\n",
              "      <td>1.0</td>\n",
              "      <td>0.0</td>\n",
              "      <td>0.0</td>\n",
              "      <td>0.0</td>\n",
              "      <td>0.0</td>\n",
              "      <td>0.0</td>\n",
              "      <td>1.0</td>\n",
              "      <td>...</td>\n",
              "      <td>0.0</td>\n",
              "      <td>0.0</td>\n",
              "      <td>0.0</td>\n",
              "      <td>0.0</td>\n",
              "      <td>1.0</td>\n",
              "      <td>0.0</td>\n",
              "      <td>1.0</td>\n",
              "      <td>0.0</td>\n",
              "      <td>1.0</td>\n",
              "      <td>0.0</td>\n",
              "    </tr>\n",
              "    <tr>\n",
              "      <th>3</th>\n",
              "      <td>4.0</td>\n",
              "      <td>500.000000</td>\n",
              "      <td>1.0</td>\n",
              "      <td>1.0</td>\n",
              "      <td>0.0</td>\n",
              "      <td>0.0</td>\n",
              "      <td>0.0</td>\n",
              "      <td>0.0</td>\n",
              "      <td>0.0</td>\n",
              "      <td>0.0</td>\n",
              "      <td>...</td>\n",
              "      <td>0.0</td>\n",
              "      <td>0.0</td>\n",
              "      <td>0.0</td>\n",
              "      <td>0.0</td>\n",
              "      <td>1.0</td>\n",
              "      <td>0.0</td>\n",
              "      <td>1.0</td>\n",
              "      <td>0.0</td>\n",
              "      <td>1.0</td>\n",
              "      <td>0.0</td>\n",
              "    </tr>\n",
              "    <tr>\n",
              "      <th>4</th>\n",
              "      <td>5.0</td>\n",
              "      <td>3170.000000</td>\n",
              "      <td>1.0</td>\n",
              "      <td>1.0</td>\n",
              "      <td>0.0</td>\n",
              "      <td>0.0</td>\n",
              "      <td>0.0</td>\n",
              "      <td>1.0</td>\n",
              "      <td>0.0</td>\n",
              "      <td>0.0</td>\n",
              "      <td>...</td>\n",
              "      <td>0.0</td>\n",
              "      <td>0.0</td>\n",
              "      <td>0.0</td>\n",
              "      <td>0.0</td>\n",
              "      <td>1.0</td>\n",
              "      <td>0.0</td>\n",
              "      <td>1.0</td>\n",
              "      <td>0.0</td>\n",
              "      <td>1.0</td>\n",
              "      <td>0.0</td>\n",
              "    </tr>\n",
              "  </tbody>\n",
              "</table>\n",
              "<p>5 rows × 83 columns</p>\n",
              "</div>"
            ],
            "text/plain": [
              "   FlightNumber  PayloadMass  Flights  Block  ReusedCount  Orbit_ES-L1  \\\n",
              "0           1.0  6104.959412      1.0    1.0          0.0          0.0   \n",
              "1           2.0   525.000000      1.0    1.0          0.0          0.0   \n",
              "2           3.0   677.000000      1.0    1.0          0.0          0.0   \n",
              "3           4.0   500.000000      1.0    1.0          0.0          0.0   \n",
              "4           5.0  3170.000000      1.0    1.0          0.0          0.0   \n",
              "\n",
              "   Orbit_GEO  Orbit_GTO  Orbit_HEO  Orbit_ISS  ...  Serial_B1058  \\\n",
              "0        0.0        0.0        0.0        0.0  ...           0.0   \n",
              "1        0.0        0.0        0.0        0.0  ...           0.0   \n",
              "2        0.0        0.0        0.0        1.0  ...           0.0   \n",
              "3        0.0        0.0        0.0        0.0  ...           0.0   \n",
              "4        0.0        1.0        0.0        0.0  ...           0.0   \n",
              "\n",
              "   Serial_B1059  Serial_B1060  Serial_B1062  GridFins_False  GridFins_True  \\\n",
              "0           0.0           0.0           0.0             1.0            0.0   \n",
              "1           0.0           0.0           0.0             1.0            0.0   \n",
              "2           0.0           0.0           0.0             1.0            0.0   \n",
              "3           0.0           0.0           0.0             1.0            0.0   \n",
              "4           0.0           0.0           0.0             1.0            0.0   \n",
              "\n",
              "   Reused_False  Reused_True  Legs_False  Legs_True  \n",
              "0           1.0          0.0         1.0        0.0  \n",
              "1           1.0          0.0         1.0        0.0  \n",
              "2           1.0          0.0         1.0        0.0  \n",
              "3           1.0          0.0         1.0        0.0  \n",
              "4           1.0          0.0         1.0        0.0  \n",
              "\n",
              "[5 rows x 83 columns]"
            ]
          },
          "execution_count": 7,
          "metadata": {},
          "output_type": "execute_result"
        }
      ],
      "source": [
        "Data.head()"
      ]
    },
    {
      "cell_type": "code",
      "execution_count": 85,
      "metadata": {},
      "outputs": [],
      "source": [
        "new_data = Data[['FlightNumber', 'PayloadMass', 'Flights', 'Block', 'ReusedCount']]"
      ]
    },
    {
      "cell_type": "code",
      "execution_count": 86,
      "metadata": {
        "colab": {
          "base_uri": "https://localhost:8080/"
        },
        "id": "e4ji1WkxK88G",
        "outputId": "98110186-259b-43f8-866e-a3951ffffdd9"
      },
      "outputs": [
        {
          "data": {
            "text/plain": [
              "['FlightNumber', 'PayloadMass', 'Flights', 'Block', 'ReusedCount']"
            ]
          },
          "execution_count": 86,
          "metadata": {},
          "output_type": "execute_result"
        }
      ],
      "source": [
        "noms_de_colonnes = new_data.columns.tolist()\n",
        "noms_de_colonnes"
      ]
    },
    {
      "cell_type": "code",
      "execution_count": 88,
      "metadata": {
        "id": "gdLSUYX0F7F6"
      },
      "outputs": [],
      "source": [
        "Y = SpaceX_data['Class'].to_numpy()\n",
        "Y = pd.Series(Y)"
      ]
    },
    {
      "cell_type": "code",
      "execution_count": 89,
      "metadata": {},
      "outputs": [
        {
          "data": {
            "text/plain": [
              "85    1\n",
              "86    1\n",
              "87    1\n",
              "88    1\n",
              "89    1\n",
              "dtype: int64"
            ]
          },
          "execution_count": 89,
          "metadata": {},
          "output_type": "execute_result"
        }
      ],
      "source": [
        "Y.tail()"
      ]
    },
    {
      "cell_type": "code",
      "execution_count": 90,
      "metadata": {},
      "outputs": [
        {
          "data": {
            "text/html": [
              "<div>\n",
              "<style scoped>\n",
              "    .dataframe tbody tr th:only-of-type {\n",
              "        vertical-align: middle;\n",
              "    }\n",
              "\n",
              "    .dataframe tbody tr th {\n",
              "        vertical-align: top;\n",
              "    }\n",
              "\n",
              "    .dataframe thead th {\n",
              "        text-align: right;\n",
              "    }\n",
              "</style>\n",
              "<table border=\"1\" class=\"dataframe\">\n",
              "  <thead>\n",
              "    <tr style=\"text-align: right;\">\n",
              "      <th></th>\n",
              "      <th>FlightNumber</th>\n",
              "      <th>PayloadMass</th>\n",
              "      <th>Flights</th>\n",
              "      <th>Block</th>\n",
              "      <th>ReusedCount</th>\n",
              "      <th>Orbit_ES-L1</th>\n",
              "      <th>Orbit_GEO</th>\n",
              "      <th>Orbit_GTO</th>\n",
              "      <th>Orbit_HEO</th>\n",
              "      <th>Orbit_ISS</th>\n",
              "      <th>...</th>\n",
              "      <th>Serial_B1058</th>\n",
              "      <th>Serial_B1059</th>\n",
              "      <th>Serial_B1060</th>\n",
              "      <th>Serial_B1062</th>\n",
              "      <th>GridFins_False</th>\n",
              "      <th>GridFins_True</th>\n",
              "      <th>Reused_False</th>\n",
              "      <th>Reused_True</th>\n",
              "      <th>Legs_False</th>\n",
              "      <th>Legs_True</th>\n",
              "    </tr>\n",
              "  </thead>\n",
              "  <tbody>\n",
              "    <tr>\n",
              "      <th>82</th>\n",
              "      <td>83.0</td>\n",
              "      <td>6104.959412</td>\n",
              "      <td>2.0</td>\n",
              "      <td>5.0</td>\n",
              "      <td>2.0</td>\n",
              "      <td>0.0</td>\n",
              "      <td>1.0</td>\n",
              "      <td>0.0</td>\n",
              "      <td>0.0</td>\n",
              "      <td>0.0</td>\n",
              "      <td>...</td>\n",
              "      <td>1.0</td>\n",
              "      <td>0.0</td>\n",
              "      <td>0.0</td>\n",
              "      <td>0.0</td>\n",
              "      <td>0.0</td>\n",
              "      <td>1.0</td>\n",
              "      <td>0.0</td>\n",
              "      <td>1.0</td>\n",
              "      <td>0.0</td>\n",
              "      <td>1.0</td>\n",
              "    </tr>\n",
              "    <tr>\n",
              "      <th>83</th>\n",
              "      <td>84.0</td>\n",
              "      <td>15400.000000</td>\n",
              "      <td>6.0</td>\n",
              "      <td>5.0</td>\n",
              "      <td>5.0</td>\n",
              "      <td>0.0</td>\n",
              "      <td>0.0</td>\n",
              "      <td>0.0</td>\n",
              "      <td>0.0</td>\n",
              "      <td>0.0</td>\n",
              "      <td>...</td>\n",
              "      <td>0.0</td>\n",
              "      <td>0.0</td>\n",
              "      <td>0.0</td>\n",
              "      <td>0.0</td>\n",
              "      <td>0.0</td>\n",
              "      <td>1.0</td>\n",
              "      <td>0.0</td>\n",
              "      <td>1.0</td>\n",
              "      <td>0.0</td>\n",
              "      <td>1.0</td>\n",
              "    </tr>\n",
              "    <tr>\n",
              "      <th>84</th>\n",
              "      <td>85.0</td>\n",
              "      <td>1600.000000</td>\n",
              "      <td>4.0</td>\n",
              "      <td>5.0</td>\n",
              "      <td>3.0</td>\n",
              "      <td>0.0</td>\n",
              "      <td>0.0</td>\n",
              "      <td>0.0</td>\n",
              "      <td>0.0</td>\n",
              "      <td>0.0</td>\n",
              "      <td>...</td>\n",
              "      <td>0.0</td>\n",
              "      <td>1.0</td>\n",
              "      <td>0.0</td>\n",
              "      <td>0.0</td>\n",
              "      <td>0.0</td>\n",
              "      <td>1.0</td>\n",
              "      <td>0.0</td>\n",
              "      <td>1.0</td>\n",
              "      <td>0.0</td>\n",
              "      <td>1.0</td>\n",
              "    </tr>\n",
              "    <tr>\n",
              "      <th>85</th>\n",
              "      <td>86.0</td>\n",
              "      <td>15400.000000</td>\n",
              "      <td>2.0</td>\n",
              "      <td>5.0</td>\n",
              "      <td>2.0</td>\n",
              "      <td>0.0</td>\n",
              "      <td>0.0</td>\n",
              "      <td>0.0</td>\n",
              "      <td>0.0</td>\n",
              "      <td>0.0</td>\n",
              "      <td>...</td>\n",
              "      <td>0.0</td>\n",
              "      <td>0.0</td>\n",
              "      <td>1.0</td>\n",
              "      <td>0.0</td>\n",
              "      <td>0.0</td>\n",
              "      <td>1.0</td>\n",
              "      <td>0.0</td>\n",
              "      <td>1.0</td>\n",
              "      <td>0.0</td>\n",
              "      <td>1.0</td>\n",
              "    </tr>\n",
              "    <tr>\n",
              "      <th>86</th>\n",
              "      <td>87.0</td>\n",
              "      <td>15400.000000</td>\n",
              "      <td>3.0</td>\n",
              "      <td>5.0</td>\n",
              "      <td>2.0</td>\n",
              "      <td>0.0</td>\n",
              "      <td>0.0</td>\n",
              "      <td>0.0</td>\n",
              "      <td>0.0</td>\n",
              "      <td>0.0</td>\n",
              "      <td>...</td>\n",
              "      <td>1.0</td>\n",
              "      <td>0.0</td>\n",
              "      <td>0.0</td>\n",
              "      <td>0.0</td>\n",
              "      <td>0.0</td>\n",
              "      <td>1.0</td>\n",
              "      <td>0.0</td>\n",
              "      <td>1.0</td>\n",
              "      <td>0.0</td>\n",
              "      <td>1.0</td>\n",
              "    </tr>\n",
              "    <tr>\n",
              "      <th>87</th>\n",
              "      <td>88.0</td>\n",
              "      <td>15400.000000</td>\n",
              "      <td>6.0</td>\n",
              "      <td>5.0</td>\n",
              "      <td>5.0</td>\n",
              "      <td>0.0</td>\n",
              "      <td>0.0</td>\n",
              "      <td>0.0</td>\n",
              "      <td>0.0</td>\n",
              "      <td>0.0</td>\n",
              "      <td>...</td>\n",
              "      <td>0.0</td>\n",
              "      <td>0.0</td>\n",
              "      <td>0.0</td>\n",
              "      <td>0.0</td>\n",
              "      <td>0.0</td>\n",
              "      <td>1.0</td>\n",
              "      <td>0.0</td>\n",
              "      <td>1.0</td>\n",
              "      <td>0.0</td>\n",
              "      <td>1.0</td>\n",
              "    </tr>\n",
              "    <tr>\n",
              "      <th>88</th>\n",
              "      <td>89.0</td>\n",
              "      <td>15400.000000</td>\n",
              "      <td>3.0</td>\n",
              "      <td>5.0</td>\n",
              "      <td>2.0</td>\n",
              "      <td>0.0</td>\n",
              "      <td>0.0</td>\n",
              "      <td>0.0</td>\n",
              "      <td>0.0</td>\n",
              "      <td>0.0</td>\n",
              "      <td>...</td>\n",
              "      <td>0.0</td>\n",
              "      <td>0.0</td>\n",
              "      <td>1.0</td>\n",
              "      <td>0.0</td>\n",
              "      <td>0.0</td>\n",
              "      <td>1.0</td>\n",
              "      <td>0.0</td>\n",
              "      <td>1.0</td>\n",
              "      <td>0.0</td>\n",
              "      <td>1.0</td>\n",
              "    </tr>\n",
              "    <tr>\n",
              "      <th>89</th>\n",
              "      <td>90.0</td>\n",
              "      <td>3681.000000</td>\n",
              "      <td>1.0</td>\n",
              "      <td>5.0</td>\n",
              "      <td>0.0</td>\n",
              "      <td>0.0</td>\n",
              "      <td>0.0</td>\n",
              "      <td>0.0</td>\n",
              "      <td>0.0</td>\n",
              "      <td>0.0</td>\n",
              "      <td>...</td>\n",
              "      <td>0.0</td>\n",
              "      <td>0.0</td>\n",
              "      <td>0.0</td>\n",
              "      <td>1.0</td>\n",
              "      <td>0.0</td>\n",
              "      <td>1.0</td>\n",
              "      <td>1.0</td>\n",
              "      <td>0.0</td>\n",
              "      <td>0.0</td>\n",
              "      <td>1.0</td>\n",
              "    </tr>\n",
              "  </tbody>\n",
              "</table>\n",
              "<p>8 rows × 83 columns</p>\n",
              "</div>"
            ],
            "text/plain": [
              "    FlightNumber   PayloadMass  Flights  Block  ReusedCount  Orbit_ES-L1  \\\n",
              "82          83.0   6104.959412      2.0    5.0          2.0          0.0   \n",
              "83          84.0  15400.000000      6.0    5.0          5.0          0.0   \n",
              "84          85.0   1600.000000      4.0    5.0          3.0          0.0   \n",
              "85          86.0  15400.000000      2.0    5.0          2.0          0.0   \n",
              "86          87.0  15400.000000      3.0    5.0          2.0          0.0   \n",
              "87          88.0  15400.000000      6.0    5.0          5.0          0.0   \n",
              "88          89.0  15400.000000      3.0    5.0          2.0          0.0   \n",
              "89          90.0   3681.000000      1.0    5.0          0.0          0.0   \n",
              "\n",
              "    Orbit_GEO  Orbit_GTO  Orbit_HEO  Orbit_ISS  ...  Serial_B1058  \\\n",
              "82        1.0        0.0        0.0        0.0  ...           1.0   \n",
              "83        0.0        0.0        0.0        0.0  ...           0.0   \n",
              "84        0.0        0.0        0.0        0.0  ...           0.0   \n",
              "85        0.0        0.0        0.0        0.0  ...           0.0   \n",
              "86        0.0        0.0        0.0        0.0  ...           1.0   \n",
              "87        0.0        0.0        0.0        0.0  ...           0.0   \n",
              "88        0.0        0.0        0.0        0.0  ...           0.0   \n",
              "89        0.0        0.0        0.0        0.0  ...           0.0   \n",
              "\n",
              "    Serial_B1059  Serial_B1060  Serial_B1062  GridFins_False  GridFins_True  \\\n",
              "82           0.0           0.0           0.0             0.0            1.0   \n",
              "83           0.0           0.0           0.0             0.0            1.0   \n",
              "84           1.0           0.0           0.0             0.0            1.0   \n",
              "85           0.0           1.0           0.0             0.0            1.0   \n",
              "86           0.0           0.0           0.0             0.0            1.0   \n",
              "87           0.0           0.0           0.0             0.0            1.0   \n",
              "88           0.0           1.0           0.0             0.0            1.0   \n",
              "89           0.0           0.0           1.0             0.0            1.0   \n",
              "\n",
              "    Reused_False  Reused_True  Legs_False  Legs_True  \n",
              "82           0.0          1.0         0.0        1.0  \n",
              "83           0.0          1.0         0.0        1.0  \n",
              "84           0.0          1.0         0.0        1.0  \n",
              "85           0.0          1.0         0.0        1.0  \n",
              "86           0.0          1.0         0.0        1.0  \n",
              "87           0.0          1.0         0.0        1.0  \n",
              "88           0.0          1.0         0.0        1.0  \n",
              "89           1.0          0.0         0.0        1.0  \n",
              "\n",
              "[8 rows x 83 columns]"
            ]
          },
          "execution_count": 90,
          "metadata": {},
          "output_type": "execute_result"
        }
      ],
      "source": [
        "Data.tail(8)"
      ]
    },
    {
      "cell_type": "code",
      "execution_count": 96,
      "metadata": {
        "id": "MEVGLoGgF7IE"
      },
      "outputs": [],
      "source": [
        "transform = preprocessing.StandardScaler()\n",
        "X_data = transform.fit_transform(new_data)"
      ]
    },
    {
      "cell_type": "code",
      "execution_count": 97,
      "metadata": {
        "id": "-9Xgh4zPF7KU"
      },
      "outputs": [],
      "source": [
        "X_train, X_test, Y_train, Y_test = train_test_split(X_data, Y, test_size=0.2, random_state=1)"
      ]
    },
    {
      "cell_type": "code",
      "execution_count": 98,
      "metadata": {
        "colab": {
          "base_uri": "https://localhost:8080/"
        },
        "id": "iIN3XbpeF7Mh",
        "outputId": "7c54b599-ec0c-42aa-deb6-32fdc36c7869"
      },
      "outputs": [
        {
          "data": {
            "text/plain": [
              "(18,)"
            ]
          },
          "execution_count": 98,
          "metadata": {},
          "output_type": "execute_result"
        }
      ],
      "source": [
        "Y_test.shape"
      ]
    },
    {
      "cell_type": "markdown",
      "metadata": {
        "id": "EkwYpr1jWSzb"
      },
      "source": [
        "## Régression Logistique"
      ]
    },
    {
      "cell_type": "code",
      "execution_count": 99,
      "metadata": {
        "colab": {
          "base_uri": "https://localhost:8080/",
          "height": 118
        },
        "id": "-4uE7V-YF7O6",
        "outputId": "9bd9f7fb-ea26-4dfc-f764-6d12d7c6950f"
      },
      "outputs": [
        {
          "data": {
            "text/html": [
              "<style>#sk-container-id-8 {color: black;}#sk-container-id-8 pre{padding: 0;}#sk-container-id-8 div.sk-toggleable {background-color: white;}#sk-container-id-8 label.sk-toggleable__label {cursor: pointer;display: block;width: 100%;margin-bottom: 0;padding: 0.3em;box-sizing: border-box;text-align: center;}#sk-container-id-8 label.sk-toggleable__label-arrow:before {content: \"▸\";float: left;margin-right: 0.25em;color: #696969;}#sk-container-id-8 label.sk-toggleable__label-arrow:hover:before {color: black;}#sk-container-id-8 div.sk-estimator:hover label.sk-toggleable__label-arrow:before {color: black;}#sk-container-id-8 div.sk-toggleable__content {max-height: 0;max-width: 0;overflow: hidden;text-align: left;background-color: #f0f8ff;}#sk-container-id-8 div.sk-toggleable__content pre {margin: 0.2em;color: black;border-radius: 0.25em;background-color: #f0f8ff;}#sk-container-id-8 input.sk-toggleable__control:checked~div.sk-toggleable__content {max-height: 200px;max-width: 100%;overflow: auto;}#sk-container-id-8 input.sk-toggleable__control:checked~label.sk-toggleable__label-arrow:before {content: \"▾\";}#sk-container-id-8 div.sk-estimator input.sk-toggleable__control:checked~label.sk-toggleable__label {background-color: #d4ebff;}#sk-container-id-8 div.sk-label input.sk-toggleable__control:checked~label.sk-toggleable__label {background-color: #d4ebff;}#sk-container-id-8 input.sk-hidden--visually {border: 0;clip: rect(1px 1px 1px 1px);clip: rect(1px, 1px, 1px, 1px);height: 1px;margin: -1px;overflow: hidden;padding: 0;position: absolute;width: 1px;}#sk-container-id-8 div.sk-estimator {font-family: monospace;background-color: #f0f8ff;border: 1px dotted black;border-radius: 0.25em;box-sizing: border-box;margin-bottom: 0.5em;}#sk-container-id-8 div.sk-estimator:hover {background-color: #d4ebff;}#sk-container-id-8 div.sk-parallel-item::after {content: \"\";width: 100%;border-bottom: 1px solid gray;flex-grow: 1;}#sk-container-id-8 div.sk-label:hover label.sk-toggleable__label {background-color: #d4ebff;}#sk-container-id-8 div.sk-serial::before {content: \"\";position: absolute;border-left: 1px solid gray;box-sizing: border-box;top: 0;bottom: 0;left: 50%;z-index: 0;}#sk-container-id-8 div.sk-serial {display: flex;flex-direction: column;align-items: center;background-color: white;padding-right: 0.2em;padding-left: 0.2em;position: relative;}#sk-container-id-8 div.sk-item {position: relative;z-index: 1;}#sk-container-id-8 div.sk-parallel {display: flex;align-items: stretch;justify-content: center;background-color: white;position: relative;}#sk-container-id-8 div.sk-item::before, #sk-container-id-8 div.sk-parallel-item::before {content: \"\";position: absolute;border-left: 1px solid gray;box-sizing: border-box;top: 0;bottom: 0;left: 50%;z-index: -1;}#sk-container-id-8 div.sk-parallel-item {display: flex;flex-direction: column;z-index: 1;position: relative;background-color: white;}#sk-container-id-8 div.sk-parallel-item:first-child::after {align-self: flex-end;width: 50%;}#sk-container-id-8 div.sk-parallel-item:last-child::after {align-self: flex-start;width: 50%;}#sk-container-id-8 div.sk-parallel-item:only-child::after {width: 0;}#sk-container-id-8 div.sk-dashed-wrapped {border: 1px dashed gray;margin: 0 0.4em 0.5em 0.4em;box-sizing: border-box;padding-bottom: 0.4em;background-color: white;}#sk-container-id-8 div.sk-label label {font-family: monospace;font-weight: bold;display: inline-block;line-height: 1.2em;}#sk-container-id-8 div.sk-label-container {text-align: center;}#sk-container-id-8 div.sk-container {/* jupyter's `normalize.less` sets `[hidden] { display: none; }` but bootstrap.min.css set `[hidden] { display: none !important; }` so we also need the `!important` here to be able to override the default hidden behavior on the sphinx rendered scikit-learn.org. See: https://github.com/scikit-learn/scikit-learn/issues/21755 */display: inline-block !important;position: relative;}#sk-container-id-8 div.sk-text-repr-fallback {display: none;}</style><div id=\"sk-container-id-8\" class=\"sk-top-container\"><div class=\"sk-text-repr-fallback\"><pre>GridSearchCV(cv=15, estimator=LogisticRegression(),\n",
              "             param_grid={&#x27;C&#x27;: [0.01, 0.1, 1], &#x27;penalty&#x27;: [&#x27;l2&#x27;],\n",
              "                         &#x27;solver&#x27;: [&#x27;lbfgs&#x27;]})</pre><b>In a Jupyter environment, please rerun this cell to show the HTML representation or trust the notebook. <br />On GitHub, the HTML representation is unable to render, please try loading this page with nbviewer.org.</b></div><div class=\"sk-container\" hidden><div class=\"sk-item sk-dashed-wrapped\"><div class=\"sk-label-container\"><div class=\"sk-label sk-toggleable\"><input class=\"sk-toggleable__control sk-hidden--visually\" id=\"sk-estimator-id-22\" type=\"checkbox\" ><label for=\"sk-estimator-id-22\" class=\"sk-toggleable__label sk-toggleable__label-arrow\">GridSearchCV</label><div class=\"sk-toggleable__content\"><pre>GridSearchCV(cv=15, estimator=LogisticRegression(),\n",
              "             param_grid={&#x27;C&#x27;: [0.01, 0.1, 1], &#x27;penalty&#x27;: [&#x27;l2&#x27;],\n",
              "                         &#x27;solver&#x27;: [&#x27;lbfgs&#x27;]})</pre></div></div></div><div class=\"sk-parallel\"><div class=\"sk-parallel-item\"><div class=\"sk-item\"><div class=\"sk-label-container\"><div class=\"sk-label sk-toggleable\"><input class=\"sk-toggleable__control sk-hidden--visually\" id=\"sk-estimator-id-23\" type=\"checkbox\" ><label for=\"sk-estimator-id-23\" class=\"sk-toggleable__label sk-toggleable__label-arrow\">estimator: LogisticRegression</label><div class=\"sk-toggleable__content\"><pre>LogisticRegression()</pre></div></div></div><div class=\"sk-serial\"><div class=\"sk-item\"><div class=\"sk-estimator sk-toggleable\"><input class=\"sk-toggleable__control sk-hidden--visually\" id=\"sk-estimator-id-24\" type=\"checkbox\" ><label for=\"sk-estimator-id-24\" class=\"sk-toggleable__label sk-toggleable__label-arrow\">LogisticRegression</label><div class=\"sk-toggleable__content\"><pre>LogisticRegression()</pre></div></div></div></div></div></div></div></div></div></div>"
            ],
            "text/plain": [
              "GridSearchCV(cv=15, estimator=LogisticRegression(),\n",
              "             param_grid={'C': [0.01, 0.1, 1], 'penalty': ['l2'],\n",
              "                         'solver': ['lbfgs']})"
            ]
          },
          "execution_count": 99,
          "metadata": {},
          "output_type": "execute_result"
        }
      ],
      "source": [
        "parameters ={'C':[0.01,0.1,1], 'penalty':['l2'], 'solver':['lbfgs']}\n",
        "logreg = LogisticRegression()\n",
        "\n",
        "logreg_cv = GridSearchCV(logreg, parameters, cv=15)\n",
        "logreg_cv.fit(X_train, Y_train)"
      ]
    },
    {
      "cell_type": "code",
      "execution_count": 103,
      "metadata": {
        "colab": {
          "base_uri": "https://localhost:8080/"
        },
        "id": "gEkenLeVF7Q_",
        "outputId": "3d402725-f454-4fd3-ebf5-6e2e1682822a"
      },
      "outputs": [
        {
          "name": "stdout",
          "output_type": "stream",
          "text": [
            "tuned hpyerparameters :(best parameters)  {'C': 0.1, 'penalty': 'l2', 'solver': 'lbfgs'}\n",
            "accuracy : 0.7733333333333333\n"
          ]
        }
      ],
      "source": [
        "print(\"tuned hpyerparameters :(best parameters) \",logreg_cv.best_params_)\n",
        "print(\"accuracy :\",logreg_cv.best_score_)"
      ]
    },
    {
      "cell_type": "code",
      "execution_count": 102,
      "metadata": {
        "colab": {
          "base_uri": "https://localhost:8080/"
        },
        "id": "R67LaxTMF7TF",
        "outputId": "6855fb7c-8c4a-488a-9c10-8b5fea03b3c3"
      },
      "outputs": [
        {
          "name": "stdout",
          "output_type": "stream",
          "text": [
            "Accuracy on the test data: 0.7777777777777778\n"
          ]
        }
      ],
      "source": [
        "accuracy_lr = logreg_cv.score(X_test, Y_test)\n",
        "print(f\"Accuracy on the test data: {accuracy_lr}\")"
      ]
    },
    {
      "cell_type": "code",
      "execution_count": 104,
      "metadata": {
        "colab": {
          "base_uri": "https://localhost:8080/",
          "height": 472
        },
        "id": "Do0j6p92F7Up",
        "outputId": "fd1a0c9f-0a70-42e5-df20-4b8fc4e0fe8c"
      },
      "outputs": [
        {
          "data": {
            "image/png": "[encoded data removed]",
            "text/plain": [
              "<Figure size 640x480 with 2 Axes>"
            ]
          },
          "metadata": {},
          "output_type": "display_data"
        }
      ],
      "source": [
        "yhat=logreg_cv.predict(X_test)\n",
        "plot_confusion_matrix(Y_test,yhat)"
      ]
    },
    {
      "cell_type": "code",
      "execution_count": 105,
      "metadata": {},
      "outputs": [
        {
          "name": "stdout",
          "output_type": "stream",
          "text": [
            "[1 1 1 1 1 1 1 1 1 1 1 1 1 1 1 1 0 0]\n",
            "58    1\n",
            "78    1\n",
            "43    1\n",
            "55    1\n",
            "87    1\n",
            "74    0\n",
            "60    0\n",
            "52    1\n",
            "46    0\n",
            "39    1\n",
            "40    1\n",
            "31    1\n",
            "69    1\n",
            "27    0\n",
            "38    1\n",
            "68    1\n",
            "10    0\n",
            "2     0\n",
            "dtype: int64\n"
          ]
        }
      ],
      "source": [
        "yhat = logreg_cv.predict(X_test)\n",
        "\n",
        "print(yhat)\n",
        "print(Y_test.head(90))"
      ]
    },
    {
      "cell_type": "markdown",
      "metadata": {
        "id": "GqR3bYjZYNP9"
      },
      "source": [
        "## Support Vector Machine"
      ]
    },
    {
      "cell_type": "code",
      "execution_count": 106,
      "metadata": {
        "colab": {
          "base_uri": "https://localhost:8080/",
          "height": 118
        },
        "id": "7TiZZY-UXIv4",
        "outputId": "19b6a3ae-dd6b-418c-9be1-74e0ed028e61"
      },
      "outputs": [
        {
          "data": {
            "text/html": [
              "<style>#sk-container-id-9 {color: black;}#sk-container-id-9 pre{padding: 0;}#sk-container-id-9 div.sk-toggleable {background-color: white;}#sk-container-id-9 label.sk-toggleable__label {cursor: pointer;display: block;width: 100%;margin-bottom: 0;padding: 0.3em;box-sizing: border-box;text-align: center;}#sk-container-id-9 label.sk-toggleable__label-arrow:before {content: \"▸\";float: left;margin-right: 0.25em;color: #696969;}#sk-container-id-9 label.sk-toggleable__label-arrow:hover:before {color: black;}#sk-container-id-9 div.sk-estimator:hover label.sk-toggleable__label-arrow:before {color: black;}#sk-container-id-9 div.sk-toggleable__content {max-height: 0;max-width: 0;overflow: hidden;text-align: left;background-color: #f0f8ff;}#sk-container-id-9 div.sk-toggleable__content pre {margin: 0.2em;color: black;border-radius: 0.25em;background-color: #f0f8ff;}#sk-container-id-9 input.sk-toggleable__control:checked~div.sk-toggleable__content {max-height: 200px;max-width: 100%;overflow: auto;}#sk-container-id-9 input.sk-toggleable__control:checked~label.sk-toggleable__label-arrow:before {content: \"▾\";}#sk-container-id-9 div.sk-estimator input.sk-toggleable__control:checked~label.sk-toggleable__label {background-color: #d4ebff;}#sk-container-id-9 div.sk-label input.sk-toggleable__control:checked~label.sk-toggleable__label {background-color: #d4ebff;}#sk-container-id-9 input.sk-hidden--visually {border: 0;clip: rect(1px 1px 1px 1px);clip: rect(1px, 1px, 1px, 1px);height: 1px;margin: -1px;overflow: hidden;padding: 0;position: absolute;width: 1px;}#sk-container-id-9 div.sk-estimator {font-family: monospace;background-color: #f0f8ff;border: 1px dotted black;border-radius: 0.25em;box-sizing: border-box;margin-bottom: 0.5em;}#sk-container-id-9 div.sk-estimator:hover {background-color: #d4ebff;}#sk-container-id-9 div.sk-parallel-item::after {content: \"\";width: 100%;border-bottom: 1px solid gray;flex-grow: 1;}#sk-container-id-9 div.sk-label:hover label.sk-toggleable__label {background-color: #d4ebff;}#sk-container-id-9 div.sk-serial::before {content: \"\";position: absolute;border-left: 1px solid gray;box-sizing: border-box;top: 0;bottom: 0;left: 50%;z-index: 0;}#sk-container-id-9 div.sk-serial {display: flex;flex-direction: column;align-items: center;background-color: white;padding-right: 0.2em;padding-left: 0.2em;position: relative;}#sk-container-id-9 div.sk-item {position: relative;z-index: 1;}#sk-container-id-9 div.sk-parallel {display: flex;align-items: stretch;justify-content: center;background-color: white;position: relative;}#sk-container-id-9 div.sk-item::before, #sk-container-id-9 div.sk-parallel-item::before {content: \"\";position: absolute;border-left: 1px solid gray;box-sizing: border-box;top: 0;bottom: 0;left: 50%;z-index: -1;}#sk-container-id-9 div.sk-parallel-item {display: flex;flex-direction: column;z-index: 1;position: relative;background-color: white;}#sk-container-id-9 div.sk-parallel-item:first-child::after {align-self: flex-end;width: 50%;}#sk-container-id-9 div.sk-parallel-item:last-child::after {align-self: flex-start;width: 50%;}#sk-container-id-9 div.sk-parallel-item:only-child::after {width: 0;}#sk-container-id-9 div.sk-dashed-wrapped {border: 1px dashed gray;margin: 0 0.4em 0.5em 0.4em;box-sizing: border-box;padding-bottom: 0.4em;background-color: white;}#sk-container-id-9 div.sk-label label {font-family: monospace;font-weight: bold;display: inline-block;line-height: 1.2em;}#sk-container-id-9 div.sk-label-container {text-align: center;}#sk-container-id-9 div.sk-container {/* jupyter's `normalize.less` sets `[hidden] { display: none; }` but bootstrap.min.css set `[hidden] { display: none !important; }` so we also need the `!important` here to be able to override the default hidden behavior on the sphinx rendered scikit-learn.org. See: https://github.com/scikit-learn/scikit-learn/issues/21755 */display: inline-block !important;position: relative;}#sk-container-id-9 div.sk-text-repr-fallback {display: none;}</style><div id=\"sk-container-id-9\" class=\"sk-top-container\"><div class=\"sk-text-repr-fallback\"><pre>GridSearchCV(cv=10, estimator=SVC(),\n",
              "             param_grid={&#x27;C&#x27;: array([1.00000000e-03, 3.16227766e-02, 1.00000000e+00, 3.16227766e+01,\n",
              "       1.00000000e+03]),\n",
              "                         &#x27;gamma&#x27;: array([1.00000000e-03, 3.16227766e-02, 1.00000000e+00, 3.16227766e+01,\n",
              "       1.00000000e+03]),\n",
              "                         &#x27;kernel&#x27;: (&#x27;linear&#x27;, &#x27;rbf&#x27;, &#x27;poly&#x27;, &#x27;rbf&#x27;, &#x27;sigmoid&#x27;)})</pre><b>In a Jupyter environment, please rerun this cell to show the HTML representation or trust the notebook. <br />On GitHub, the HTML representation is unable to render, please try loading this page with nbviewer.org.</b></div><div class=\"sk-container\" hidden><div class=\"sk-item sk-dashed-wrapped\"><div class=\"sk-label-container\"><div class=\"sk-label sk-toggleable\"><input class=\"sk-toggleable__control sk-hidden--visually\" id=\"sk-estimator-id-25\" type=\"checkbox\" ><label for=\"sk-estimator-id-25\" class=\"sk-toggleable__label sk-toggleable__label-arrow\">GridSearchCV</label><div class=\"sk-toggleable__content\"><pre>GridSearchCV(cv=10, estimator=SVC(),\n",
              "             param_grid={&#x27;C&#x27;: array([1.00000000e-03, 3.16227766e-02, 1.00000000e+00, 3.16227766e+01,\n",
              "       1.00000000e+03]),\n",
              "                         &#x27;gamma&#x27;: array([1.00000000e-03, 3.16227766e-02, 1.00000000e+00, 3.16227766e+01,\n",
              "       1.00000000e+03]),\n",
              "                         &#x27;kernel&#x27;: (&#x27;linear&#x27;, &#x27;rbf&#x27;, &#x27;poly&#x27;, &#x27;rbf&#x27;, &#x27;sigmoid&#x27;)})</pre></div></div></div><div class=\"sk-parallel\"><div class=\"sk-parallel-item\"><div class=\"sk-item\"><div class=\"sk-label-container\"><div class=\"sk-label sk-toggleable\"><input class=\"sk-toggleable__control sk-hidden--visually\" id=\"sk-estimator-id-26\" type=\"checkbox\" ><label for=\"sk-estimator-id-26\" class=\"sk-toggleable__label sk-toggleable__label-arrow\">estimator: SVC</label><div class=\"sk-toggleable__content\"><pre>SVC()</pre></div></div></div><div class=\"sk-serial\"><div class=\"sk-item\"><div class=\"sk-estimator sk-toggleable\"><input class=\"sk-toggleable__control sk-hidden--visually\" id=\"sk-estimator-id-27\" type=\"checkbox\" ><label for=\"sk-estimator-id-27\" class=\"sk-toggleable__label sk-toggleable__label-arrow\">SVC</label><div class=\"sk-toggleable__content\"><pre>SVC()</pre></div></div></div></div></div></div></div></div></div></div>"
            ],
            "text/plain": [
              "GridSearchCV(cv=10, estimator=SVC(),\n",
              "             param_grid={'C': array([1.00000000e-03, 3.16227766e-02, 1.00000000e+00, 3.16227766e+01,\n",
              "       1.00000000e+03]),\n",
              "                         'gamma': array([1.00000000e-03, 3.16227766e-02, 1.00000000e+00, 3.16227766e+01,\n",
              "       1.00000000e+03]),\n",
              "                         'kernel': ('linear', 'rbf', 'poly', 'rbf', 'sigmoid')})"
            ]
          },
          "execution_count": 106,
          "metadata": {},
          "output_type": "execute_result"
        }
      ],
      "source": [
        "parameters = {'kernel':('linear', 'rbf','poly','rbf', 'sigmoid'),\n",
        "              'C': np.logspace(-3, 3, 5),\n",
        "              'gamma':np.logspace(-3, 3, 5)}\n",
        "svm = SVC()\n",
        "svm_cv = GridSearchCV(svm, parameters, cv=10)\n",
        "svm_cv.fit(X_train, Y_train)"
      ]
    },
    {
      "cell_type": "code",
      "execution_count": 112,
      "metadata": {
        "colab": {
          "base_uri": "https://localhost:8080/"
        },
        "id": "gXa0voDKXI_t",
        "outputId": "d03eadf7-6a66-44e3-ef72-0a4d38d96cc5"
      },
      "outputs": [
        {
          "name": "stdout",
          "output_type": "stream",
          "text": [
            "tuned hpyerparameters :(best parameters)  {'C': 1000.0, 'gamma': 0.03162277660168379, 'kernel': 'rbf'}\n",
            "accuracy : 0.8303571428571429\n"
          ]
        }
      ],
      "source": [
        "print(\"tuned hpyerparameters :(best parameters) \",svm_cv.best_params_)\n",
        "print(\"accuracy :\",svm_cv.best_score_)"
      ]
    },
    {
      "cell_type": "code",
      "execution_count": 113,
      "metadata": {
        "colab": {
          "base_uri": "https://localhost:8080/"
        },
        "id": "kpxLp5j2XJBR",
        "outputId": "47fc95c6-5b6a-45ff-ff2c-d989315fa2e0"
      },
      "outputs": [
        {
          "name": "stdout",
          "output_type": "stream",
          "text": [
            "Accuracy on the test data: 0.9444444444444444\n"
          ]
        }
      ],
      "source": [
        "accuracy_svm = svm_cv.score(X_test, Y_test)\n",
        "print(f\"Accuracy on the test data: {accuracy_svm}\")"
      ]
    },
    {
      "cell_type": "code",
      "execution_count": 114,
      "metadata": {
        "colab": {
          "base_uri": "https://localhost:8080/",
          "height": 472
        },
        "id": "h75Hz6ugXJEi",
        "outputId": "c5de631c-33b0-4f43-cc99-a3407bbdfa67"
      },
      "outputs": [
        {
          "data": {
            "image/png": "[encoded data removed]",
            "text/plain": [
              "<Figure size 640x480 with 2 Axes>"
            ]
          },
          "metadata": {},
          "output_type": "display_data"
        }
      ],
      "source": [
        "yhat=svm_cv.predict(X_test)\n",
        "plot_confusion_matrix(Y_test,yhat)"
      ]
    },
    {
      "cell_type": "code",
      "execution_count": 131,
      "metadata": {},
      "outputs": [
        {
          "data": {
            "text/plain": [
              "0"
            ]
          },
          "execution_count": 131,
          "metadata": {},
          "output_type": "execute_result"
        }
      ],
      "source": [
        "yhat = svm_cv.predict(X_data)[0]\n",
        "yhat"
      ]
    },
    {
      "cell_type": "code",
      "execution_count": 124,
      "metadata": {},
      "outputs": [
        {
          "data": {
            "text/plain": [
              "['loan_svm.joblib']"
            ]
          },
          "execution_count": 124,
          "metadata": {},
          "output_type": "execute_result"
        }
      ],
      "source": [
        "import joblib\n",
        "joblib.dump(svm_cv, \"loan_svm.joblib\")"
      ]
    },
    {
      "cell_type": "markdown",
      "metadata": {
        "id": "BtYd_VuIc_o9"
      },
      "source": [
        "## Decision Tree Classifier"
      ]
    },
    {
      "cell_type": "code",
      "execution_count": 115,
      "metadata": {
        "colab": {
          "base_uri": "https://localhost:8080/",
          "height": 1000
        },
        "id": "YFNzx1oOXJGb",
        "outputId": "b5534a39-957b-46ab-e573-1f2199d0dd96"
      },
      "outputs": [
        {
          "name": "stderr",
          "output_type": "stream",
          "text": [
            "c:\\Users\\ayyou\\AppData\\Local\\Programs\\Python\\Python312\\Lib\\site-packages\\sklearn\\model_selection\\_validation.py:425: FitFailedWarning: \n",
            "4860 fits failed out of a total of 9720.\n",
            "The score on these train-test partitions for these parameters will be set to nan.\n",
            "If these failures are not expected, you can try to debug them by setting error_score='raise'.\n",
            "\n",
            "Below are more details about the failures:\n",
            "--------------------------------------------------------------------------------\n",
            "4860 fits failed with the following error:\n",
            "Traceback (most recent call last):\n",
            "  File \"c:\\Users\\ayyou\\AppData\\Local\\Programs\\Python\\Python312\\Lib\\site-packages\\sklearn\\model_selection\\_validation.py\", line 729, in _fit_and_score\n",
            "    estimator.fit(X_train, y_train, **fit_params)\n",
            "  File \"c:\\Users\\ayyou\\AppData\\Local\\Programs\\Python\\Python312\\Lib\\site-packages\\sklearn\\base.py\", line 1145, in wrapper\n",
            "    estimator._validate_params()\n",
            "  File \"c:\\Users\\ayyou\\AppData\\Local\\Programs\\Python\\Python312\\Lib\\site-packages\\sklearn\\base.py\", line 638, in _validate_params\n",
            "    validate_parameter_constraints(\n",
            "  File \"c:\\Users\\ayyou\\AppData\\Local\\Programs\\Python\\Python312\\Lib\\site-packages\\sklearn\\utils\\_param_validation.py\", line 95, in validate_parameter_constraints\n",
            "    raise InvalidParameterError(\n",
            "sklearn.utils._param_validation.InvalidParameterError: The 'max_features' parameter of DecisionTreeClassifier must be an int in the range [1, inf), a float in the range (0.0, 1.0], a str among {'sqrt', 'log2'} or None. Got 'auto' instead.\n",
            "\n",
            "  warnings.warn(some_fits_failed_message, FitFailedWarning)\n",
            "c:\\Users\\ayyou\\AppData\\Local\\Programs\\Python\\Python312\\Lib\\site-packages\\sklearn\\model_selection\\_search.py:979: UserWarning: One or more of the test scores are non-finite: [       nan        nan        nan        nan        nan        nan\n",
            "        nan        nan        nan        nan        nan        nan\n",
            "        nan        nan        nan        nan        nan        nan\n",
            " 0.78666667 0.69       0.76       0.70666667 0.78666667 0.76333333\n",
            " 0.8        0.76       0.8        0.69333333 0.73333333 0.68333333\n",
            " 0.8        0.77666667 0.74666667 0.69       0.76       0.74666667\n",
            "        nan        nan        nan        nan        nan        nan\n",
            "        nan        nan        nan        nan        nan        nan\n",
            "        nan        nan        nan        nan        nan        nan\n",
            " 0.72       0.74666667 0.80666667 0.73       0.73333333 0.74333333\n",
            " 0.76       0.75666667 0.77333333 0.73333333 0.69666667 0.74666667\n",
            " 0.76333333 0.74666667 0.73       0.74666667 0.77333333 0.77333333\n",
            "        nan        nan        nan        nan        nan        nan\n",
            "        nan        nan        nan        nan        nan        nan\n",
            "        nan        nan        nan        nan        nan        nan\n",
            " 0.76       0.76666667 0.76       0.73       0.72       0.76\n",
            " 0.72       0.77666667 0.76333333 0.7        0.71666667 0.72333333\n",
            " 0.72333333 0.74666667 0.69666667 0.75666667 0.74666667 0.69\n",
            "        nan        nan        nan        nan        nan        nan\n",
            "        nan        nan        nan        nan        nan        nan\n",
            "        nan        nan        nan        nan        nan        nan\n",
            " 0.73       0.78666667 0.73333333 0.75666667 0.67333333 0.7\n",
            " 0.77333333 0.69333333 0.65333333 0.69       0.73333333 0.73333333\n",
            " 0.70666667 0.74666667 0.77333333 0.77333333 0.77333333 0.8\n",
            "        nan        nan        nan        nan        nan        nan\n",
            "        nan        nan        nan        nan        nan        nan\n",
            "        nan        nan        nan        nan        nan        nan\n",
            " 0.74666667 0.77       0.71       0.73666667 0.81333333 0.70333333\n",
            " 0.69666667 0.76       0.79333333 0.70666667 0.71       0.76666667\n",
            " 0.73333333 0.76       0.71666667 0.71666667 0.69333333 0.70333333\n",
            "        nan        nan        nan        nan        nan        nan\n",
            "        nan        nan        nan        nan        nan        nan\n",
            "        nan        nan        nan        nan        nan        nan\n",
            " 0.70666667 0.75666667 0.76333333 0.74333333 0.71333333 0.76\n",
            " 0.74333333 0.73       0.74       0.78       0.76333333 0.79666667\n",
            " 0.67666667 0.82666667 0.7        0.76       0.75       0.67666667\n",
            "        nan        nan        nan        nan        nan        nan\n",
            "        nan        nan        nan        nan        nan        nan\n",
            "        nan        nan        nan        nan        nan        nan\n",
            " 0.76       0.77666667 0.77666667 0.76       0.66666667 0.77\n",
            " 0.72       0.76       0.77666667 0.71333333 0.64333333 0.71666667\n",
            " 0.73666667 0.77       0.62666667 0.73       0.74666667 0.75666667\n",
            "        nan        nan        nan        nan        nan        nan\n",
            "        nan        nan        nan        nan        nan        nan\n",
            "        nan        nan        nan        nan        nan        nan\n",
            " 0.8        0.77333333 0.75       0.78666667 0.73333333 0.77\n",
            " 0.73666667 0.74666667 0.73333333 0.76       0.78       0.73333333\n",
            " 0.74333333 0.81333333 0.73333333 0.73       0.69333333 0.68333333\n",
            "        nan        nan        nan        nan        nan        nan\n",
            "        nan        nan        nan        nan        nan        nan\n",
            "        nan        nan        nan        nan        nan        nan\n",
            " 0.76       0.72       0.67666667 0.63333333 0.66       0.74333333\n",
            " 0.69333333 0.74666667 0.65       0.73333333 0.79       0.76\n",
            " 0.73666667 0.72       0.68666667 0.77333333 0.68333333 0.69333333\n",
            "        nan        nan        nan        nan        nan        nan\n",
            "        nan        nan        nan        nan        nan        nan\n",
            "        nan        nan        nan        nan        nan        nan\n",
            " 0.78666667 0.65       0.78666667 0.72       0.77333333 0.69333333\n",
            " 0.8        0.73333333 0.81333333 0.67666667 0.78666667 0.67666667\n",
            " 0.8        0.69333333 0.74666667 0.72       0.78666667 0.81666667\n",
            "        nan        nan        nan        nan        nan        nan\n",
            "        nan        nan        nan        nan        nan        nan\n",
            "        nan        nan        nan        nan        nan        nan\n",
            " 0.78666667 0.71666667 0.79666667 0.69333333 0.73666667 0.73333333\n",
            " 0.81       0.79       0.8        0.76       0.8        0.79\n",
            " 0.72       0.79333333 0.76       0.8        0.72333333 0.74333333\n",
            "        nan        nan        nan        nan        nan        nan\n",
            "        nan        nan        nan        nan        nan        nan\n",
            "        nan        nan        nan        nan        nan        nan\n",
            " 0.74333333 0.81333333 0.76       0.75333333 0.69666667 0.75333333\n",
            " 0.78666667 0.71666667 0.71666667 0.74666667 0.73333333 0.74\n",
            " 0.59666667 0.71666667 0.71       0.73333333 0.70666667 0.78666667\n",
            "        nan        nan        nan        nan        nan        nan\n",
            "        nan        nan        nan        nan        nan        nan\n",
            "        nan        nan        nan        nan        nan        nan\n",
            " 0.76333333 0.76       0.79333333 0.78666667 0.72333333 0.78666667\n",
            " 0.77333333 0.78333333 0.78333333 0.72       0.72       0.65666667\n",
            " 0.73666667 0.71666667 0.65666667 0.70333333 0.69333333 0.76\n",
            "        nan        nan        nan        nan        nan        nan\n",
            "        nan        nan        nan        nan        nan        nan\n",
            "        nan        nan        nan        nan        nan        nan\n",
            " 0.78666667 0.79       0.73666667 0.73       0.8        0.70333333\n",
            " 0.72333333 0.67       0.76333333 0.8        0.73333333 0.71666667\n",
            " 0.71666667 0.78666667 0.69       0.80333333 0.76       0.81333333\n",
            "        nan        nan        nan        nan        nan        nan\n",
            "        nan        nan        nan        nan        nan        nan\n",
            "        nan        nan        nan        nan        nan        nan\n",
            " 0.67666667 0.77       0.69333333 0.74666667 0.7        0.74\n",
            " 0.75       0.74666667 0.66       0.77333333 0.69666667 0.74666667\n",
            " 0.71666667 0.77       0.73333333 0.77333333 0.71       0.78333333\n",
            "        nan        nan        nan        nan        nan        nan\n",
            "        nan        nan        nan        nan        nan        nan\n",
            "        nan        nan        nan        nan        nan        nan\n",
            " 0.78666667 0.78333333 0.76666667 0.81       0.71666667 0.8\n",
            " 0.7        0.71666667 0.73333333 0.67333333 0.74       0.74666667\n",
            " 0.76333333 0.77333333 0.69333333 0.83       0.69333333 0.76333333\n",
            "        nan        nan        nan        nan        nan        nan\n",
            "        nan        nan        nan        nan        nan        nan\n",
            "        nan        nan        nan        nan        nan        nan\n",
            " 0.74666667 0.8        0.73333333 0.70333333 0.66333333 0.77\n",
            " 0.77333333 0.7        0.77       0.71666667 0.70666667 0.71666667\n",
            " 0.76       0.67333333 0.78666667 0.76       0.72333333 0.77333333\n",
            "        nan        nan        nan        nan        nan        nan\n",
            "        nan        nan        nan        nan        nan        nan\n",
            "        nan        nan        nan        nan        nan        nan\n",
            " 0.8        0.76333333 0.76333333 0.81333333 0.70333333 0.70333333\n",
            " 0.73333333 0.74666667 0.74333333 0.72       0.77333333 0.74666667\n",
            " 0.71666667 0.8        0.73       0.69       0.74333333 0.69      ]\n",
            "  warnings.warn(\n"
          ]
        },
        {
          "data": {
            "text/html": [
              "<style>#sk-container-id-10 {color: black;}#sk-container-id-10 pre{padding: 0;}#sk-container-id-10 div.sk-toggleable {background-color: white;}#sk-container-id-10 label.sk-toggleable__label {cursor: pointer;display: block;width: 100%;margin-bottom: 0;padding: 0.3em;box-sizing: border-box;text-align: center;}#sk-container-id-10 label.sk-toggleable__label-arrow:before {content: \"▸\";float: left;margin-right: 0.25em;color: #696969;}#sk-container-id-10 label.sk-toggleable__label-arrow:hover:before {color: black;}#sk-container-id-10 div.sk-estimator:hover label.sk-toggleable__label-arrow:before {color: black;}#sk-container-id-10 div.sk-toggleable__content {max-height: 0;max-width: 0;overflow: hidden;text-align: left;background-color: #f0f8ff;}#sk-container-id-10 div.sk-toggleable__content pre {margin: 0.2em;color: black;border-radius: 0.25em;background-color: #f0f8ff;}#sk-container-id-10 input.sk-toggleable__control:checked~div.sk-toggleable__content {max-height: 200px;max-width: 100%;overflow: auto;}#sk-container-id-10 input.sk-toggleable__control:checked~label.sk-toggleable__label-arrow:before {content: \"▾\";}#sk-container-id-10 div.sk-estimator input.sk-toggleable__control:checked~label.sk-toggleable__label {background-color: #d4ebff;}#sk-container-id-10 div.sk-label input.sk-toggleable__control:checked~label.sk-toggleable__label {background-color: #d4ebff;}#sk-container-id-10 input.sk-hidden--visually {border: 0;clip: rect(1px 1px 1px 1px);clip: rect(1px, 1px, 1px, 1px);height: 1px;margin: -1px;overflow: hidden;padding: 0;position: absolute;width: 1px;}#sk-container-id-10 div.sk-estimator {font-family: monospace;background-color: #f0f8ff;border: 1px dotted black;border-radius: 0.25em;box-sizing: border-box;margin-bottom: 0.5em;}#sk-container-id-10 div.sk-estimator:hover {background-color: #d4ebff;}#sk-container-id-10 div.sk-parallel-item::after {content: \"\";width: 100%;border-bottom: 1px solid gray;flex-grow: 1;}#sk-container-id-10 div.sk-label:hover label.sk-toggleable__label {background-color: #d4ebff;}#sk-container-id-10 div.sk-serial::before {content: \"\";position: absolute;border-left: 1px solid gray;box-sizing: border-box;top: 0;bottom: 0;left: 50%;z-index: 0;}#sk-container-id-10 div.sk-serial {display: flex;flex-direction: column;align-items: center;background-color: white;padding-right: 0.2em;padding-left: 0.2em;position: relative;}#sk-container-id-10 div.sk-item {position: relative;z-index: 1;}#sk-container-id-10 div.sk-parallel {display: flex;align-items: stretch;justify-content: center;background-color: white;position: relative;}#sk-container-id-10 div.sk-item::before, #sk-container-id-10 div.sk-parallel-item::before {content: \"\";position: absolute;border-left: 1px solid gray;box-sizing: border-box;top: 0;bottom: 0;left: 50%;z-index: -1;}#sk-container-id-10 div.sk-parallel-item {display: flex;flex-direction: column;z-index: 1;position: relative;background-color: white;}#sk-container-id-10 div.sk-parallel-item:first-child::after {align-self: flex-end;width: 50%;}#sk-container-id-10 div.sk-parallel-item:last-child::after {align-self: flex-start;width: 50%;}#sk-container-id-10 div.sk-parallel-item:only-child::after {width: 0;}#sk-container-id-10 div.sk-dashed-wrapped {border: 1px dashed gray;margin: 0 0.4em 0.5em 0.4em;box-sizing: border-box;padding-bottom: 0.4em;background-color: white;}#sk-container-id-10 div.sk-label label {font-family: monospace;font-weight: bold;display: inline-block;line-height: 1.2em;}#sk-container-id-10 div.sk-label-container {text-align: center;}#sk-container-id-10 div.sk-container {/* jupyter's `normalize.less` sets `[hidden] { display: none; }` but bootstrap.min.css set `[hidden] { display: none !important; }` so we also need the `!important` here to be able to override the default hidden behavior on the sphinx rendered scikit-learn.org. See: https://github.com/scikit-learn/scikit-learn/issues/21755 */display: inline-block !important;position: relative;}#sk-container-id-10 div.sk-text-repr-fallback {display: none;}</style><div id=\"sk-container-id-10\" class=\"sk-top-container\"><div class=\"sk-text-repr-fallback\"><pre>GridSearchCV(cv=15, estimator=DecisionTreeClassifier(),\n",
              "             param_grid={&#x27;criterion&#x27;: [&#x27;gini&#x27;, &#x27;entropy&#x27;],\n",
              "                         &#x27;max_depth&#x27;: [2, 4, 6, 8, 10, 12, 14, 16, 18],\n",
              "                         &#x27;max_features&#x27;: [&#x27;auto&#x27;, &#x27;sqrt&#x27;],\n",
              "                         &#x27;min_samples_leaf&#x27;: [1, 2, 4],\n",
              "                         &#x27;min_samples_split&#x27;: [2, 5, 10],\n",
              "                         &#x27;splitter&#x27;: [&#x27;best&#x27;, &#x27;random&#x27;]})</pre><b>In a Jupyter environment, please rerun this cell to show the HTML representation or trust the notebook. <br />On GitHub, the HTML representation is unable to render, please try loading this page with nbviewer.org.</b></div><div class=\"sk-container\" hidden><div class=\"sk-item sk-dashed-wrapped\"><div class=\"sk-label-container\"><div class=\"sk-label sk-toggleable\"><input class=\"sk-toggleable__control sk-hidden--visually\" id=\"sk-estimator-id-28\" type=\"checkbox\" ><label for=\"sk-estimator-id-28\" class=\"sk-toggleable__label sk-toggleable__label-arrow\">GridSearchCV</label><div class=\"sk-toggleable__content\"><pre>GridSearchCV(cv=15, estimator=DecisionTreeClassifier(),\n",
              "             param_grid={&#x27;criterion&#x27;: [&#x27;gini&#x27;, &#x27;entropy&#x27;],\n",
              "                         &#x27;max_depth&#x27;: [2, 4, 6, 8, 10, 12, 14, 16, 18],\n",
              "                         &#x27;max_features&#x27;: [&#x27;auto&#x27;, &#x27;sqrt&#x27;],\n",
              "                         &#x27;min_samples_leaf&#x27;: [1, 2, 4],\n",
              "                         &#x27;min_samples_split&#x27;: [2, 5, 10],\n",
              "                         &#x27;splitter&#x27;: [&#x27;best&#x27;, &#x27;random&#x27;]})</pre></div></div></div><div class=\"sk-parallel\"><div class=\"sk-parallel-item\"><div class=\"sk-item\"><div class=\"sk-label-container\"><div class=\"sk-label sk-toggleable\"><input class=\"sk-toggleable__control sk-hidden--visually\" id=\"sk-estimator-id-29\" type=\"checkbox\" ><label for=\"sk-estimator-id-29\" class=\"sk-toggleable__label sk-toggleable__label-arrow\">estimator: DecisionTreeClassifier</label><div class=\"sk-toggleable__content\"><pre>DecisionTreeClassifier()</pre></div></div></div><div class=\"sk-serial\"><div class=\"sk-item\"><div class=\"sk-estimator sk-toggleable\"><input class=\"sk-toggleable__control sk-hidden--visually\" id=\"sk-estimator-id-30\" type=\"checkbox\" ><label for=\"sk-estimator-id-30\" class=\"sk-toggleable__label sk-toggleable__label-arrow\">DecisionTreeClassifier</label><div class=\"sk-toggleable__content\"><pre>DecisionTreeClassifier()</pre></div></div></div></div></div></div></div></div></div></div>"
            ],
            "text/plain": [
              "GridSearchCV(cv=15, estimator=DecisionTreeClassifier(),\n",
              "             param_grid={'criterion': ['gini', 'entropy'],\n",
              "                         'max_depth': [2, 4, 6, 8, 10, 12, 14, 16, 18],\n",
              "                         'max_features': ['auto', 'sqrt'],\n",
              "                         'min_samples_leaf': [1, 2, 4],\n",
              "                         'min_samples_split': [2, 5, 10],\n",
              "                         'splitter': ['best', 'random']})"
            ]
          },
          "execution_count": 115,
          "metadata": {},
          "output_type": "execute_result"
        }
      ],
      "source": [
        "parameters = {'criterion': ['gini', 'entropy'],\n",
        "     'splitter': ['best', 'random'],\n",
        "     'max_depth': [2*n for n in range(1,10)],\n",
        "     'max_features': ['auto', 'sqrt'],\n",
        "     'min_samples_leaf': [1, 2, 4],\n",
        "     'min_samples_split': [2, 5, 10]}\n",
        "\n",
        "tree = DecisionTreeClassifier()\n",
        "tree_cv = GridSearchCV(tree, parameters, cv=15)\n",
        "tree_cv.fit(X_train, Y_train)"
      ]
    },
    {
      "cell_type": "code",
      "execution_count": 116,
      "metadata": {
        "colab": {
          "base_uri": "https://localhost:8080/"
        },
        "id": "ugoeJ5yEXJJI",
        "outputId": "da138d11-07f8-4006-8c7f-94f46e0350bc"
      },
      "outputs": [
        {
          "name": "stdout",
          "output_type": "stream",
          "text": [
            "tuned hpyerparameters :(best parameters)  {'criterion': 'entropy', 'max_depth': 14, 'max_features': 'sqrt', 'min_samples_leaf': 4, 'min_samples_split': 5, 'splitter': 'random'}\n",
            "accuracy_tree : 0.8300000000000001\n"
          ]
        }
      ],
      "source": [
        "print(\"tuned hpyerparameters :(best parameters) \",tree_cv.best_params_)\n",
        "print(\"accuracy_tree :\",tree_cv.best_score_)"
      ]
    },
    {
      "cell_type": "code",
      "execution_count": 117,
      "metadata": {
        "colab": {
          "base_uri": "https://localhost:8080/"
        },
        "id": "oGenmE2rXJK6",
        "outputId": "dfb8dde4-aa16-4a2c-e430-7cc234ff61d4"
      },
      "outputs": [
        {
          "name": "stdout",
          "output_type": "stream",
          "text": [
            "Accuracy_tree on the test data: 0.6666666666666666\n"
          ]
        }
      ],
      "source": [
        "accuracy_tree = tree_cv.score(X_test, Y_test)\n",
        "print(f\"Accuracy_tree on the test data: {accuracy_tree}\")"
      ]
    },
    {
      "cell_type": "code",
      "execution_count": 118,
      "metadata": {
        "colab": {
          "base_uri": "https://localhost:8080/",
          "height": 472
        },
        "id": "nQRa1obdkkAr",
        "outputId": "9eb2c79e-6d6f-49b5-ac6a-8e5c78b8fc90"
      },
      "outputs": [
        {
          "data": {
            "image/png": "[encoded data removed]",
            "text/plain": [
              "<Figure size 640x480 with 2 Axes>"
            ]
          },
          "metadata": {},
          "output_type": "display_data"
        }
      ],
      "source": [
        "yhat=tree_cv.predict(X_test)\n",
        "plot_confusion_matrix(Y_test,yhat)"
      ]
    },
    {
      "cell_type": "code",
      "execution_count": null,
      "metadata": {},
      "outputs": [],
      "source": []
    },
    {
      "cell_type": "markdown",
      "metadata": {
        "id": "3IYyFxBdgISA"
      },
      "source": [
        "## k Nearest Neighbors"
      ]
    },
    {
      "cell_type": "code",
      "execution_count": 120,
      "metadata": {
        "colab": {
          "base_uri": "https://localhost:8080/",
          "height": 118
        },
        "id": "O9h3GIH2gLkJ",
        "outputId": "d471c93e-7b2c-465b-cfc6-e28d7aeb0879"
      },
      "outputs": [
        {
          "data": {
            "text/html": [
              "<style>#sk-container-id-11 {color: black;}#sk-container-id-11 pre{padding: 0;}#sk-container-id-11 div.sk-toggleable {background-color: white;}#sk-container-id-11 label.sk-toggleable__label {cursor: pointer;display: block;width: 100%;margin-bottom: 0;padding: 0.3em;box-sizing: border-box;text-align: center;}#sk-container-id-11 label.sk-toggleable__label-arrow:before {content: \"▸\";float: left;margin-right: 0.25em;color: #696969;}#sk-container-id-11 label.sk-toggleable__label-arrow:hover:before {color: black;}#sk-container-id-11 div.sk-estimator:hover label.sk-toggleable__label-arrow:before {color: black;}#sk-container-id-11 div.sk-toggleable__content {max-height: 0;max-width: 0;overflow: hidden;text-align: left;background-color: #f0f8ff;}#sk-container-id-11 div.sk-toggleable__content pre {margin: 0.2em;color: black;border-radius: 0.25em;background-color: #f0f8ff;}#sk-container-id-11 input.sk-toggleable__control:checked~div.sk-toggleable__content {max-height: 200px;max-width: 100%;overflow: auto;}#sk-container-id-11 input.sk-toggleable__control:checked~label.sk-toggleable__label-arrow:before {content: \"▾\";}#sk-container-id-11 div.sk-estimator input.sk-toggleable__control:checked~label.sk-toggleable__label {background-color: #d4ebff;}#sk-container-id-11 div.sk-label input.sk-toggleable__control:checked~label.sk-toggleable__label {background-color: #d4ebff;}#sk-container-id-11 input.sk-hidden--visually {border: 0;clip: rect(1px 1px 1px 1px);clip: rect(1px, 1px, 1px, 1px);height: 1px;margin: -1px;overflow: hidden;padding: 0;position: absolute;width: 1px;}#sk-container-id-11 div.sk-estimator {font-family: monospace;background-color: #f0f8ff;border: 1px dotted black;border-radius: 0.25em;box-sizing: border-box;margin-bottom: 0.5em;}#sk-container-id-11 div.sk-estimator:hover {background-color: #d4ebff;}#sk-container-id-11 div.sk-parallel-item::after {content: \"\";width: 100%;border-bottom: 1px solid gray;flex-grow: 1;}#sk-container-id-11 div.sk-label:hover label.sk-toggleable__label {background-color: #d4ebff;}#sk-container-id-11 div.sk-serial::before {content: \"\";position: absolute;border-left: 1px solid gray;box-sizing: border-box;top: 0;bottom: 0;left: 50%;z-index: 0;}#sk-container-id-11 div.sk-serial {display: flex;flex-direction: column;align-items: center;background-color: white;padding-right: 0.2em;padding-left: 0.2em;position: relative;}#sk-container-id-11 div.sk-item {position: relative;z-index: 1;}#sk-container-id-11 div.sk-parallel {display: flex;align-items: stretch;justify-content: center;background-color: white;position: relative;}#sk-container-id-11 div.sk-item::before, #sk-container-id-11 div.sk-parallel-item::before {content: \"\";position: absolute;border-left: 1px solid gray;box-sizing: border-box;top: 0;bottom: 0;left: 50%;z-index: -1;}#sk-container-id-11 div.sk-parallel-item {display: flex;flex-direction: column;z-index: 1;position: relative;background-color: white;}#sk-container-id-11 div.sk-parallel-item:first-child::after {align-self: flex-end;width: 50%;}#sk-container-id-11 div.sk-parallel-item:last-child::after {align-self: flex-start;width: 50%;}#sk-container-id-11 div.sk-parallel-item:only-child::after {width: 0;}#sk-container-id-11 div.sk-dashed-wrapped {border: 1px dashed gray;margin: 0 0.4em 0.5em 0.4em;box-sizing: border-box;padding-bottom: 0.4em;background-color: white;}#sk-container-id-11 div.sk-label label {font-family: monospace;font-weight: bold;display: inline-block;line-height: 1.2em;}#sk-container-id-11 div.sk-label-container {text-align: center;}#sk-container-id-11 div.sk-container {/* jupyter's `normalize.less` sets `[hidden] { display: none; }` but bootstrap.min.css set `[hidden] { display: none !important; }` so we also need the `!important` here to be able to override the default hidden behavior on the sphinx rendered scikit-learn.org. See: https://github.com/scikit-learn/scikit-learn/issues/21755 */display: inline-block !important;position: relative;}#sk-container-id-11 div.sk-text-repr-fallback {display: none;}</style><div id=\"sk-container-id-11\" class=\"sk-top-container\"><div class=\"sk-text-repr-fallback\"><pre>GridSearchCV(cv=10, estimator=KNeighborsClassifier(),\n",
              "             param_grid={&#x27;algorithm&#x27;: [&#x27;auto&#x27;, &#x27;ball_tree&#x27;, &#x27;kd_tree&#x27;, &#x27;brute&#x27;],\n",
              "                         &#x27;n_neighbors&#x27;: [1, 2, 3, 4, 5, 6, 7, 8, 9, 10],\n",
              "                         &#x27;p&#x27;: [1, 2]})</pre><b>In a Jupyter environment, please rerun this cell to show the HTML representation or trust the notebook. <br />On GitHub, the HTML representation is unable to render, please try loading this page with nbviewer.org.</b></div><div class=\"sk-container\" hidden><div class=\"sk-item sk-dashed-wrapped\"><div class=\"sk-label-container\"><div class=\"sk-label sk-toggleable\"><input class=\"sk-toggleable__control sk-hidden--visually\" id=\"sk-estimator-id-31\" type=\"checkbox\" ><label for=\"sk-estimator-id-31\" class=\"sk-toggleable__label sk-toggleable__label-arrow\">GridSearchCV</label><div class=\"sk-toggleable__content\"><pre>GridSearchCV(cv=10, estimator=KNeighborsClassifier(),\n",
              "             param_grid={&#x27;algorithm&#x27;: [&#x27;auto&#x27;, &#x27;ball_tree&#x27;, &#x27;kd_tree&#x27;, &#x27;brute&#x27;],\n",
              "                         &#x27;n_neighbors&#x27;: [1, 2, 3, 4, 5, 6, 7, 8, 9, 10],\n",
              "                         &#x27;p&#x27;: [1, 2]})</pre></div></div></div><div class=\"sk-parallel\"><div class=\"sk-parallel-item\"><div class=\"sk-item\"><div class=\"sk-label-container\"><div class=\"sk-label sk-toggleable\"><input class=\"sk-toggleable__control sk-hidden--visually\" id=\"sk-estimator-id-32\" type=\"checkbox\" ><label for=\"sk-estimator-id-32\" class=\"sk-toggleable__label sk-toggleable__label-arrow\">estimator: KNeighborsClassifier</label><div class=\"sk-toggleable__content\"><pre>KNeighborsClassifier()</pre></div></div></div><div class=\"sk-serial\"><div class=\"sk-item\"><div class=\"sk-estimator sk-toggleable\"><input class=\"sk-toggleable__control sk-hidden--visually\" id=\"sk-estimator-id-33\" type=\"checkbox\" ><label for=\"sk-estimator-id-33\" class=\"sk-toggleable__label sk-toggleable__label-arrow\">KNeighborsClassifier</label><div class=\"sk-toggleable__content\"><pre>KNeighborsClassifier()</pre></div></div></div></div></div></div></div></div></div></div>"
            ],
            "text/plain": [
              "GridSearchCV(cv=10, estimator=KNeighborsClassifier(),\n",
              "             param_grid={'algorithm': ['auto', 'ball_tree', 'kd_tree', 'brute'],\n",
              "                         'n_neighbors': [1, 2, 3, 4, 5, 6, 7, 8, 9, 10],\n",
              "                         'p': [1, 2]})"
            ]
          },
          "execution_count": 120,
          "metadata": {},
          "output_type": "execute_result"
        }
      ],
      "source": [
        "parameters = {'n_neighbors': [1, 2, 3, 4, 5, 6, 7, 8, 9, 10],\n",
        "              'algorithm': ['auto', 'ball_tree', 'kd_tree', 'brute'],\n",
        "              'p': [1,2]}\n",
        "\n",
        "KNN = KNeighborsClassifier()\n",
        "KNN_cv = GridSearchCV(KNN, parameters, cv=10)\n",
        "KNN_cv.fit(X_train, Y_train)"
      ]
    },
    {
      "cell_type": "code",
      "execution_count": 121,
      "metadata": {
        "colab": {
          "base_uri": "https://localhost:8080/"
        },
        "id": "WuoZT0ulgwGG",
        "outputId": "0988a9fc-b949-456d-c17a-f714ebdf8047"
      },
      "outputs": [
        {
          "name": "stdout",
          "output_type": "stream",
          "text": [
            "tuned hpyerparameters :(best parameters)  {'algorithm': 'auto', 'n_neighbors': 3, 'p': 1}\n",
            "accuracy : 0.8196428571428571\n"
          ]
        }
      ],
      "source": [
        "print(\"tuned hpyerparameters :(best parameters) \",KNN_cv.best_params_)\n",
        "print(\"accuracy :\",KNN_cv.best_score_)"
      ]
    },
    {
      "cell_type": "code",
      "execution_count": 122,
      "metadata": {
        "colab": {
          "base_uri": "https://localhost:8080/"
        },
        "id": "Q9CLycuSl5Ns",
        "outputId": "a6421c37-492b-4e8b-e5c2-c23460726c53"
      },
      "outputs": [
        {
          "name": "stdout",
          "output_type": "stream",
          "text": [
            "Accuracy_tree on the test data: 0.9444444444444444\n"
          ]
        }
      ],
      "source": [
        "accuracy_KNN = KNN_cv.score(X_test, Y_test)\n",
        "print(f\"Accuracy_tree on the test data: {accuracy_KNN}\")"
      ]
    },
    {
      "cell_type": "code",
      "execution_count": 123,
      "metadata": {
        "colab": {
          "base_uri": "https://localhost:8080/",
          "height": 472
        },
        "id": "MNUukFsTkqIE",
        "outputId": "4f56785e-b1fb-47cf-acdc-2388f72ee452"
      },
      "outputs": [
        {
          "data": {
            "image/png": "[encoded data removed]",
            "text/plain": [
              "<Figure size 640x480 with 2 Axes>"
            ]
          },
          "metadata": {},
          "output_type": "display_data"
        }
      ],
      "source": [
        "yhat = KNN_cv.predict(X_test)\n",
        "plot_confusion_matrix(Y_test,yhat)"
      ]
    },
    {
      "cell_type": "code",
      "execution_count": 81,
      "metadata": {
        "id": "CO6ZFz0poE6G"
      },
      "outputs": [],
      "source": []
    },
    {
      "cell_type": "code",
      "execution_count": 81,
      "metadata": {
        "id": "KYhaa2DIoGdj"
      },
      "outputs": [],
      "source": []
    },
    {
      "cell_type": "markdown",
      "metadata": {
        "id": "yDEZn3yvoIC2"
      },
      "source": [
        "## Réseau de neurone"
      ]
    },
    {
      "cell_type": "code",
      "execution_count": 82,
      "metadata": {
        "id": "CgQRSjLJoOcW"
      },
      "outputs": [],
      "source": [
        "from keras.datasets import mnist\n",
        "from keras.models import Sequential, load_model\n",
        "from keras.layers import Dense, Dropout, Flatten\n",
        "from tensorflow.keras.layers import Conv2D, MaxPooling2D\n",
        "from tensorflow.keras.utils import to_categorical\n",
        "from tensorflow.keras.optimizers import Adam\n",
        "from tensorflow.keras.layers import Dense\n",
        "from tensorflow.keras.callbacks import EarlyStopping\n",
        "from sklearn.preprocessing import StandardScaler"
      ]
    },
    {
      "cell_type": "code",
      "execution_count": 83,
      "metadata": {
        "id": "tQyTUrcRVV_J"
      },
      "outputs": [],
      "source": [
        "# Construire le modèle DNN\n",
        "\n",
        "model = Sequential()\n",
        "model.add(Dense(128, input_dim=X_train.shape[1], activation='relu'))\n",
        "\n",
        "model.add(Dense(128, activation='relu'))\n",
        "model.add(Dropout(0.2))\n",
        "model.add(Dense(64, activation='relu'))\n",
        "model.add(Dense(32, activation='relu'))\n",
        "model.add(Dense(32, activation='relu'))\n",
        "model.add(Dense(1, activation='sigmoid'))\n",
        "\n",
        "# Compiler le modèle\n",
        "model.compile(optimizer=Adam(learning_rate=0.001), loss='binary_crossentropy', metrics=['accuracy'])\n",
        "\n",
        "# Définir un rappel pour arrêter l'entraînement prématurément si la performance ne s'améliore pas\n",
        "#early_stopping = EarlyStopping(monitor='val_loss', patience=5, restore_best_weights=True)"
      ]
    },
    {
      "cell_type": "code",
      "execution_count": 84,
      "metadata": {
        "colab": {
          "base_uri": "https://localhost:8080/"
        },
        "id": "gUWG9ybUaA8Q",
        "outputId": "910ea314-b9a4-4f36-b5a2-193bd8f76081"
      },
      "outputs": [
        {
          "name": "stdout",
          "output_type": "stream",
          "text": [
            "Epoch 1/100\n",
            "50/50 [==============================] - 2s 7ms/step - loss: 0.7029 - accuracy: 0.5200 - val_loss: 0.6591 - val_accuracy: 0.6818\n",
            "Epoch 2/100\n",
            "50/50 [==============================] - 0s 4ms/step - loss: 0.5234 - accuracy: 0.7800 - val_loss: 0.5810 - val_accuracy: 0.7273\n",
            "Epoch 3/100\n",
            "50/50 [==============================] - 0s 4ms/step - loss: 0.2505 - accuracy: 0.9200 - val_loss: 0.5737 - val_accuracy: 0.7727\n",
            "Epoch 4/100\n",
            "50/50 [==============================] - 0s 4ms/step - loss: 0.0429 - accuracy: 1.0000 - val_loss: 0.8643 - val_accuracy: 0.7273\n",
            "Epoch 5/100\n",
            "50/50 [==============================] - 0s 4ms/step - loss: 0.0303 - accuracy: 0.9800 - val_loss: 1.0377 - val_accuracy: 0.6818\n",
            "Epoch 6/100\n",
            "50/50 [==============================] - 0s 4ms/step - loss: 0.0039 - accuracy: 1.0000 - val_loss: 1.1334 - val_accuracy: 0.7273\n",
            "Epoch 7/100\n",
            "50/50 [==============================] - 0s 3ms/step - loss: 0.0021 - accuracy: 1.0000 - val_loss: 1.1981 - val_accuracy: 0.7273\n",
            "Epoch 8/100\n",
            "50/50 [==============================] - 0s 4ms/step - loss: 0.0013 - accuracy: 1.0000 - val_loss: 1.2482 - val_accuracy: 0.7273\n",
            "Epoch 9/100\n",
            "50/50 [==============================] - 0s 4ms/step - loss: 8.4554e-04 - accuracy: 1.0000 - val_loss: 1.2844 - val_accuracy: 0.7273\n",
            "Epoch 10/100\n",
            "50/50 [==============================] - 0s 4ms/step - loss: 8.9858e-04 - accuracy: 1.0000 - val_loss: 1.3170 - val_accuracy: 0.7273\n",
            "Epoch 11/100\n",
            "50/50 [==============================] - 0s 4ms/step - loss: 4.5891e-04 - accuracy: 1.0000 - val_loss: 1.3483 - val_accuracy: 0.7273\n",
            "Epoch 12/100\n",
            "50/50 [==============================] - 0s 4ms/step - loss: 6.2772e-04 - accuracy: 1.0000 - val_loss: 1.3852 - val_accuracy: 0.7273\n",
            "Epoch 13/100\n",
            "50/50 [==============================] - 0s 5ms/step - loss: 3.4521e-04 - accuracy: 1.0000 - val_loss: 1.4118 - val_accuracy: 0.7273\n",
            "Epoch 14/100\n",
            "50/50 [==============================] - 0s 6ms/step - loss: 3.7618e-04 - accuracy: 1.0000 - val_loss: 1.4363 - val_accuracy: 0.7273\n",
            "Epoch 15/100\n",
            "50/50 [==============================] - 0s 6ms/step - loss: 2.5854e-04 - accuracy: 1.0000 - val_loss: 1.4596 - val_accuracy: 0.7273\n",
            "Epoch 16/100\n",
            "50/50 [==============================] - 0s 5ms/step - loss: 3.0269e-04 - accuracy: 1.0000 - val_loss: 1.4829 - val_accuracy: 0.7273\n",
            "Epoch 17/100\n",
            "50/50 [==============================] - 0s 6ms/step - loss: 2.6525e-04 - accuracy: 1.0000 - val_loss: 1.5049 - val_accuracy: 0.7273\n",
            "Epoch 18/100\n",
            "50/50 [==============================] - 0s 6ms/step - loss: 1.9716e-04 - accuracy: 1.0000 - val_loss: 1.5206 - val_accuracy: 0.7273\n",
            "Epoch 19/100\n",
            "50/50 [==============================] - 0s 5ms/step - loss: 2.8581e-04 - accuracy: 1.0000 - val_loss: 1.5320 - val_accuracy: 0.7273\n",
            "Epoch 20/100\n",
            "50/50 [==============================] - 0s 6ms/step - loss: 2.2687e-04 - accuracy: 1.0000 - val_loss: 1.5494 - val_accuracy: 0.7273\n",
            "Epoch 21/100\n",
            "50/50 [==============================] - 0s 6ms/step - loss: 1.1638e-04 - accuracy: 1.0000 - val_loss: 1.5591 - val_accuracy: 0.7273\n",
            "Epoch 22/100\n",
            "50/50 [==============================] - 0s 6ms/step - loss: 7.0269e-05 - accuracy: 1.0000 - val_loss: 1.5701 - val_accuracy: 0.7273\n",
            "Epoch 23/100\n",
            "50/50 [==============================] - 0s 6ms/step - loss: 1.5728e-04 - accuracy: 1.0000 - val_loss: 1.5929 - val_accuracy: 0.7273\n",
            "Epoch 24/100\n",
            "50/50 [==============================] - 0s 6ms/step - loss: 9.8744e-05 - accuracy: 1.0000 - val_loss: 1.6075 - val_accuracy: 0.6818\n",
            "Epoch 25/100\n",
            "50/50 [==============================] - 0s 5ms/step - loss: 3.1496e-05 - accuracy: 1.0000 - val_loss: 1.6135 - val_accuracy: 0.6818\n",
            "Epoch 26/100\n",
            "50/50 [==============================] - 0s 5ms/step - loss: 9.2547e-05 - accuracy: 1.0000 - val_loss: 1.6198 - val_accuracy: 0.7273\n",
            "Epoch 27/100\n",
            "50/50 [==============================] - 0s 6ms/step - loss: 6.4502e-05 - accuracy: 1.0000 - val_loss: 1.6309 - val_accuracy: 0.7273\n",
            "Epoch 28/100\n",
            "50/50 [==============================] - 0s 6ms/step - loss: 4.8881e-05 - accuracy: 1.0000 - val_loss: 1.6394 - val_accuracy: 0.7273\n",
            "Epoch 29/100\n",
            "50/50 [==============================] - 0s 4ms/step - loss: 9.0945e-05 - accuracy: 1.0000 - val_loss: 1.6551 - val_accuracy: 0.7273\n",
            "Epoch 30/100\n",
            "50/50 [==============================] - 0s 4ms/step - loss: 7.0314e-05 - accuracy: 1.0000 - val_loss: 1.6678 - val_accuracy: 0.7273\n",
            "Epoch 31/100\n",
            "50/50 [==============================] - 0s 4ms/step - loss: 1.7072e-04 - accuracy: 1.0000 - val_loss: 1.6895 - val_accuracy: 0.7273\n",
            "Epoch 32/100\n",
            "50/50 [==============================] - 0s 4ms/step - loss: 4.1683e-05 - accuracy: 1.0000 - val_loss: 1.6988 - val_accuracy: 0.7273\n",
            "Epoch 33/100\n",
            "50/50 [==============================] - 0s 4ms/step - loss: 9.8729e-05 - accuracy: 1.0000 - val_loss: 1.7140 - val_accuracy: 0.7273\n",
            "Epoch 34/100\n",
            "50/50 [==============================] - 0s 4ms/step - loss: 4.5553e-05 - accuracy: 1.0000 - val_loss: 1.7215 - val_accuracy: 0.7273\n",
            "Epoch 35/100\n",
            "50/50 [==============================] - 0s 4ms/step - loss: 1.1136e-04 - accuracy: 1.0000 - val_loss: 1.7361 - val_accuracy: 0.6818\n",
            "Epoch 36/100\n",
            "50/50 [==============================] - 0s 4ms/step - loss: 4.4766e-05 - accuracy: 1.0000 - val_loss: 1.7550 - val_accuracy: 0.6818\n",
            "Epoch 37/100\n",
            "50/50 [==============================] - 0s 4ms/step - loss: 2.7182e-05 - accuracy: 1.0000 - val_loss: 1.7627 - val_accuracy: 0.7273\n",
            "Epoch 38/100\n",
            "50/50 [==============================] - 0s 4ms/step - loss: 2.0826e-05 - accuracy: 1.0000 - val_loss: 1.7685 - val_accuracy: 0.7273\n",
            "Epoch 39/100\n",
            "50/50 [==============================] - 0s 4ms/step - loss: 1.5706e-05 - accuracy: 1.0000 - val_loss: 1.7764 - val_accuracy: 0.7273\n",
            "Epoch 40/100\n",
            "50/50 [==============================] - 0s 4ms/step - loss: 2.6537e-05 - accuracy: 1.0000 - val_loss: 1.7828 - val_accuracy: 0.7273\n",
            "Epoch 41/100\n",
            "50/50 [==============================] - 0s 5ms/step - loss: 1.7764e-05 - accuracy: 1.0000 - val_loss: 1.7890 - val_accuracy: 0.7273\n",
            "Epoch 42/100\n",
            "50/50 [==============================] - 0s 5ms/step - loss: 2.1736e-05 - accuracy: 1.0000 - val_loss: 1.7994 - val_accuracy: 0.7273\n",
            "Epoch 43/100\n",
            "50/50 [==============================] - 0s 4ms/step - loss: 4.2915e-05 - accuracy: 1.0000 - val_loss: 1.8128 - val_accuracy: 0.7273\n",
            "Epoch 44/100\n",
            "50/50 [==============================] - 0s 4ms/step - loss: 3.4152e-05 - accuracy: 1.0000 - val_loss: 1.8212 - val_accuracy: 0.7273\n",
            "Epoch 45/100\n",
            "50/50 [==============================] - 0s 4ms/step - loss: 1.9341e-05 - accuracy: 1.0000 - val_loss: 1.8315 - val_accuracy: 0.7273\n",
            "Epoch 46/100\n",
            "50/50 [==============================] - 0s 4ms/step - loss: 2.8022e-05 - accuracy: 1.0000 - val_loss: 1.8393 - val_accuracy: 0.7273\n",
            "Epoch 47/100\n",
            "50/50 [==============================] - 0s 4ms/step - loss: 1.0591e-05 - accuracy: 1.0000 - val_loss: 1.8448 - val_accuracy: 0.7273\n",
            "Epoch 48/100\n",
            "50/50 [==============================] - 0s 4ms/step - loss: 1.1388e-05 - accuracy: 1.0000 - val_loss: 1.8496 - val_accuracy: 0.7273\n",
            "Epoch 49/100\n",
            "50/50 [==============================] - 0s 4ms/step - loss: 1.9057e-05 - accuracy: 1.0000 - val_loss: 1.8555 - val_accuracy: 0.7273\n",
            "Epoch 50/100\n",
            "50/50 [==============================] - 0s 4ms/step - loss: 1.4762e-05 - accuracy: 1.0000 - val_loss: 1.8621 - val_accuracy: 0.7273\n",
            "Epoch 51/100\n",
            "50/50 [==============================] - 0s 4ms/step - loss: 2.6304e-05 - accuracy: 1.0000 - val_loss: 1.8730 - val_accuracy: 0.7273\n",
            "Epoch 52/100\n",
            "50/50 [==============================] - 0s 4ms/step - loss: 1.3542e-05 - accuracy: 1.0000 - val_loss: 1.8847 - val_accuracy: 0.7273\n",
            "Epoch 53/100\n",
            "50/50 [==============================] - 0s 4ms/step - loss: 1.4861e-05 - accuracy: 1.0000 - val_loss: 1.8912 - val_accuracy: 0.7273\n",
            "Epoch 54/100\n",
            "50/50 [==============================] - 0s 4ms/step - loss: 1.8160e-05 - accuracy: 1.0000 - val_loss: 1.9003 - val_accuracy: 0.7273\n",
            "Epoch 55/100\n",
            "50/50 [==============================] - 0s 4ms/step - loss: 3.7128e-05 - accuracy: 1.0000 - val_loss: 1.9189 - val_accuracy: 0.6818\n",
            "Epoch 56/100\n",
            "50/50 [==============================] - 0s 4ms/step - loss: 9.3906e-06 - accuracy: 1.0000 - val_loss: 1.9240 - val_accuracy: 0.6818\n",
            "Epoch 57/100\n",
            "50/50 [==============================] - 0s 4ms/step - loss: 8.3594e-06 - accuracy: 1.0000 - val_loss: 1.9300 - val_accuracy: 0.6818\n",
            "Epoch 58/100\n",
            "50/50 [==============================] - 0s 4ms/step - loss: 2.7439e-05 - accuracy: 1.0000 - val_loss: 1.9372 - val_accuracy: 0.6818\n",
            "Epoch 59/100\n",
            "50/50 [==============================] - 0s 4ms/step - loss: 4.4904e-06 - accuracy: 1.0000 - val_loss: 1.9419 - val_accuracy: 0.7273\n",
            "Epoch 60/100\n",
            "50/50 [==============================] - 0s 4ms/step - loss: 3.2683e-05 - accuracy: 1.0000 - val_loss: 1.9638 - val_accuracy: 0.6818\n",
            "Epoch 61/100\n",
            "50/50 [==============================] - 0s 5ms/step - loss: 7.6449e-06 - accuracy: 1.0000 - val_loss: 1.9714 - val_accuracy: 0.6818\n",
            "Epoch 62/100\n",
            "50/50 [==============================] - 0s 4ms/step - loss: 6.7264e-06 - accuracy: 1.0000 - val_loss: 1.9788 - val_accuracy: 0.6818\n",
            "Epoch 63/100\n",
            "50/50 [==============================] - 0s 4ms/step - loss: 2.6918e-05 - accuracy: 1.0000 - val_loss: 1.9893 - val_accuracy: 0.6818\n",
            "Epoch 64/100\n",
            "50/50 [==============================] - 0s 4ms/step - loss: 6.9046e-06 - accuracy: 1.0000 - val_loss: 1.9935 - val_accuracy: 0.6818\n",
            "Epoch 65/100\n",
            "50/50 [==============================] - 0s 4ms/step - loss: 3.1361e-05 - accuracy: 1.0000 - val_loss: 1.9789 - val_accuracy: 0.7273\n",
            "Epoch 66/100\n",
            "50/50 [==============================] - 0s 4ms/step - loss: 9.0777e-06 - accuracy: 1.0000 - val_loss: 1.9820 - val_accuracy: 0.7273\n",
            "Epoch 67/100\n",
            "50/50 [==============================] - 0s 5ms/step - loss: 6.2241e-06 - accuracy: 1.0000 - val_loss: 1.9905 - val_accuracy: 0.7273\n",
            "Epoch 68/100\n",
            "50/50 [==============================] - 0s 4ms/step - loss: 5.0774e-06 - accuracy: 1.0000 - val_loss: 1.9938 - val_accuracy: 0.7273\n",
            "Epoch 69/100\n",
            "50/50 [==============================] - 0s 5ms/step - loss: 5.6279e-06 - accuracy: 1.0000 - val_loss: 1.9972 - val_accuracy: 0.7273\n",
            "Epoch 70/100\n",
            "50/50 [==============================] - 0s 4ms/step - loss: 5.4876e-06 - accuracy: 1.0000 - val_loss: 2.0004 - val_accuracy: 0.7273\n",
            "Epoch 71/100\n",
            "50/50 [==============================] - 0s 4ms/step - loss: 4.8405e-06 - accuracy: 1.0000 - val_loss: 2.0064 - val_accuracy: 0.7273\n",
            "Epoch 72/100\n",
            "50/50 [==============================] - 0s 5ms/step - loss: 6.7544e-05 - accuracy: 1.0000 - val_loss: 2.1128 - val_accuracy: 0.6818\n",
            "Epoch 73/100\n",
            "50/50 [==============================] - 0s 4ms/step - loss: 5.0256e-06 - accuracy: 1.0000 - val_loss: 2.1248 - val_accuracy: 0.6818\n",
            "Epoch 74/100\n",
            "50/50 [==============================] - 0s 4ms/step - loss: 7.1139e-06 - accuracy: 1.0000 - val_loss: 2.1301 - val_accuracy: 0.6818\n",
            "Epoch 75/100\n",
            "50/50 [==============================] - 0s 6ms/step - loss: 3.6256e-06 - accuracy: 1.0000 - val_loss: 2.1334 - val_accuracy: 0.6818\n",
            "Epoch 76/100\n",
            "50/50 [==============================] - 0s 6ms/step - loss: 1.1572e-05 - accuracy: 1.0000 - val_loss: 2.1581 - val_accuracy: 0.6818\n",
            "Epoch 77/100\n",
            "50/50 [==============================] - 0s 6ms/step - loss: 3.8014e-06 - accuracy: 1.0000 - val_loss: 2.1654 - val_accuracy: 0.6818\n",
            "Epoch 78/100\n",
            "50/50 [==============================] - 0s 6ms/step - loss: 5.3570e-06 - accuracy: 1.0000 - val_loss: 2.1654 - val_accuracy: 0.6818\n",
            "Epoch 79/100\n",
            "50/50 [==============================] - 0s 5ms/step - loss: 1.5605e-06 - accuracy: 1.0000 - val_loss: 2.1636 - val_accuracy: 0.6818\n",
            "Epoch 80/100\n",
            "50/50 [==============================] - 0s 5ms/step - loss: 2.0029e-06 - accuracy: 1.0000 - val_loss: 2.1664 - val_accuracy: 0.6818\n",
            "Epoch 81/100\n",
            "50/50 [==============================] - 0s 6ms/step - loss: 2.6343e-06 - accuracy: 1.0000 - val_loss: 2.1749 - val_accuracy: 0.6818\n",
            "Epoch 82/100\n",
            "50/50 [==============================] - 0s 6ms/step - loss: 2.0021e-06 - accuracy: 1.0000 - val_loss: 2.1787 - val_accuracy: 0.6818\n",
            "Epoch 83/100\n",
            "50/50 [==============================] - 0s 6ms/step - loss: 2.5324e-06 - accuracy: 1.0000 - val_loss: 2.1819 - val_accuracy: 0.6818\n",
            "Epoch 84/100\n",
            "50/50 [==============================] - 0s 6ms/step - loss: 1.0758e-06 - accuracy: 1.0000 - val_loss: 2.1861 - val_accuracy: 0.6818\n",
            "Epoch 85/100\n",
            "50/50 [==============================] - 0s 6ms/step - loss: 1.8391e-06 - accuracy: 1.0000 - val_loss: 2.1902 - val_accuracy: 0.6818\n",
            "Epoch 86/100\n",
            "50/50 [==============================] - 0s 5ms/step - loss: 3.7105e-06 - accuracy: 1.0000 - val_loss: 2.1971 - val_accuracy: 0.6818\n",
            "Epoch 87/100\n",
            "50/50 [==============================] - 0s 6ms/step - loss: 1.6365e-06 - accuracy: 1.0000 - val_loss: 2.2014 - val_accuracy: 0.6818\n",
            "Epoch 88/100\n",
            "50/50 [==============================] - 0s 6ms/step - loss: 3.5332e-06 - accuracy: 1.0000 - val_loss: 2.2044 - val_accuracy: 0.6818\n",
            "Epoch 89/100\n",
            "50/50 [==============================] - 0s 6ms/step - loss: 2.4336e-06 - accuracy: 1.0000 - val_loss: 2.2138 - val_accuracy: 0.6818\n",
            "Epoch 90/100\n",
            "50/50 [==============================] - 0s 5ms/step - loss: 1.7805e-06 - accuracy: 1.0000 - val_loss: 2.2145 - val_accuracy: 0.6818\n",
            "Epoch 91/100\n",
            "50/50 [==============================] - 0s 4ms/step - loss: 1.4817e-06 - accuracy: 1.0000 - val_loss: 2.2200 - val_accuracy: 0.6818\n",
            "Epoch 92/100\n",
            "50/50 [==============================] - 0s 4ms/step - loss: 3.7773e-06 - accuracy: 1.0000 - val_loss: 2.2244 - val_accuracy: 0.6818\n",
            "Epoch 93/100\n",
            "50/50 [==============================] - 0s 4ms/step - loss: 8.6772e-06 - accuracy: 1.0000 - val_loss: 2.2521 - val_accuracy: 0.6818\n",
            "Epoch 94/100\n",
            "50/50 [==============================] - 0s 5ms/step - loss: 1.4858e-06 - accuracy: 1.0000 - val_loss: 2.2563 - val_accuracy: 0.6818\n",
            "Epoch 95/100\n",
            "50/50 [==============================] - 0s 4ms/step - loss: 1.8581e-06 - accuracy: 1.0000 - val_loss: 2.2592 - val_accuracy: 0.6818\n",
            "Epoch 96/100\n",
            "50/50 [==============================] - 0s 5ms/step - loss: 9.4003e-07 - accuracy: 1.0000 - val_loss: 2.2607 - val_accuracy: 0.6818\n",
            "Epoch 97/100\n",
            "50/50 [==============================] - 0s 5ms/step - loss: 1.3028e-06 - accuracy: 1.0000 - val_loss: 2.2617 - val_accuracy: 0.6818\n",
            "Epoch 98/100\n",
            "50/50 [==============================] - 0s 4ms/step - loss: 1.7832e-06 - accuracy: 1.0000 - val_loss: 2.2646 - val_accuracy: 0.6818\n",
            "Epoch 99/100\n",
            "50/50 [==============================] - 0s 4ms/step - loss: 1.3377e-06 - accuracy: 1.0000 - val_loss: 2.2664 - val_accuracy: 0.6818\n",
            "Epoch 100/100\n",
            "50/50 [==============================] - 0s 4ms/step - loss: 1.2154e-06 - accuracy: 1.0000 - val_loss: 2.2641 - val_accuracy: 0.6818\n"
          ]
        }
      ],
      "source": [
        "# Entraîner le modèle\n",
        "history = model.fit(X_train, Y_train, epochs=100, batch_size=1, validation_split=0.3)"
      ]
    },
    {
      "cell_type": "code",
      "execution_count": 85,
      "metadata": {
        "colab": {
          "base_uri": "https://localhost:8080/"
        },
        "id": "nXXTWH_dZXmQ",
        "outputId": "a1faa448-48af-43e2-86df-709e1180ae42"
      },
      "outputs": [
        {
          "name": "stdout",
          "output_type": "stream",
          "text": [
            "1/1 [==============================] - 0s 172ms/step - loss: 1.2955 - accuracy: 0.8333\n",
            "3/3 [==============================] - 0s 5ms/step - loss: 0.6918 - accuracy: 0.9028\n",
            "Test Accuracy: 0.8333333134651184\n",
            "Train Accuracy: 0.9027777910232544\n"
          ]
        }
      ],
      "source": [
        "# Évaluer la performance sur l'ensemble de test\n",
        "test_loss, test_accuracy = model.evaluate(X_test, Y_test)\n",
        "train_loss, train_accuracy = model.evaluate(X_train, Y_train)\n",
        "print(f\"Test Accuracy: {test_accuracy}\")\n",
        "print(f\"Train Accuracy: {train_accuracy}\")"
      ]
    },
    {
      "cell_type": "code",
      "execution_count": 86,
      "metadata": {
        "colab": {
          "base_uri": "https://localhost:8080/"
        },
        "id": "Kbve8YrLPs7Y",
        "outputId": "1edff96d-3385-4c53-f80e-6130e70e81fe"
      },
      "outputs": [
        {
          "name": "stdout",
          "output_type": "stream",
          "text": [
            "Score : 83.33%\n"
          ]
        }
      ],
      "source": [
        "scores = model.evaluate(X_test, Y_test, verbose=0)\n",
        "print(\"Score : %.2f%%\" % (scores[1]*100))"
      ]
    },
    {
      "cell_type": "code",
      "execution_count": 87,
      "metadata": {
        "id": "sTzdJ9lyhqCs"
      },
      "outputs": [],
      "source": [
        "\n",
        "def plot_scores(train) :\n",
        "    accuracy = train.history['accuracy']\n",
        "    val_accuracy = train.history['val_accuracy']\n",
        "    epochs = range(len(accuracy))\n",
        "    plt.plot(epochs, accuracy, 'b', label='Score apprentissage')\n",
        "    plt.plot(epochs, val_accuracy, 'r', label='Score validation')\n",
        "    plt.title('Scores')\n",
        "    plt.legend()\n",
        "    plt.show()"
      ]
    },
    {
      "cell_type": "code",
      "execution_count": 88,
      "metadata": {
        "colab": {
          "base_uri": "https://localhost:8080/",
          "height": 452
        },
        "id": "NvCslogoiGjG",
        "outputId": "05b83191-118e-4253-f5b4-499dae806662"
      },
      "outputs": [
        {
          "data": {
            "image/png": "[encoded data removed]",
            "text/plain": [
              "<Figure size 640x480 with 1 Axes>"
            ]
          },
          "metadata": {},
          "output_type": "display_data"
        }
      ],
      "source": [
        "plot_scores(history)"
      ]
    },
    {
      "cell_type": "code",
      "execution_count": 89,
      "metadata": {
        "colab": {
          "base_uri": "https://localhost:8080/"
        },
        "id": "yHcPXF0ExNm7",
        "outputId": "5c25e87d-507f-4079-f498-bd21e65c6002"
      },
      "outputs": [
        {
          "name": "stdout",
          "output_type": "stream",
          "text": [
            "1/1 [==============================] - 0s 78ms/step\n"
          ]
        },
        {
          "data": {
            "text/plain": [
              "array([[9.9999744e-01],\n",
              "       [9.9999893e-01],\n",
              "       [9.5051795e-01],\n",
              "       [9.9999475e-01],\n",
              "       [1.0000000e+00],\n",
              "       [1.0000000e+00],\n",
              "       [1.0696482e-02],\n",
              "       [9.8403847e-01],\n",
              "       [6.6366595e-01],\n",
              "       [9.9999988e-01],\n",
              "       [9.9999905e-01],\n",
              "       [9.9999988e-01],\n",
              "       [9.9989295e-01],\n",
              "       [9.7845441e-01],\n",
              "       [7.1555650e-01],\n",
              "       [1.0000000e+00],\n",
              "       [2.7611595e-06],\n",
              "       [2.6904488e-07]], dtype=float32)"
            ]
          },
          "execution_count": 89,
          "metadata": {},
          "output_type": "execute_result"
        }
      ],
      "source": [
        "# Vous pouvez utiliser le modèle entraîné pour faire des prédictions sur de nouvelles données\n",
        "yhat = model.predict(X_test)\n",
        "yhat"
      ]
    },
    {
      "cell_type": "code",
      "execution_count": 90,
      "metadata": {
        "colab": {
          "base_uri": "https://localhost:8080/"
        },
        "id": "VdT2krl6Ps-P",
        "outputId": "b71810ae-5130-4a7f-d889-ed8cd3b4e6d1"
      },
      "outputs": [
        {
          "name": "stdout",
          "output_type": "stream",
          "text": [
            "Epoch 1/50\n",
            "1/1 [==============================] - 1s 808ms/step - loss: 0.6245 - accuracy: 0.9306 - val_loss: 1.2312 - val_accuracy: 0.8333\n",
            "Epoch 2/50\n",
            "1/1 [==============================] - 0s 61ms/step - loss: 0.4507 - accuracy: 0.9444 - val_loss: 0.8871 - val_accuracy: 0.8889\n",
            "Epoch 3/50\n",
            "1/1 [==============================] - 0s 38ms/step - loss: 0.2158 - accuracy: 0.9722 - val_loss: 0.6718 - val_accuracy: 0.9444\n",
            "Epoch 4/50\n",
            "1/1 [==============================] - 0s 40ms/step - loss: 0.1212 - accuracy: 0.9861 - val_loss: 0.5319 - val_accuracy: 0.9444\n",
            "Epoch 5/50\n",
            "1/1 [==============================] - 0s 35ms/step - loss: 0.0865 - accuracy: 0.9861 - val_loss: 0.4542 - val_accuracy: 0.8889\n",
            "Epoch 6/50\n",
            "1/1 [==============================] - 0s 57ms/step - loss: 0.0142 - accuracy: 0.9861 - val_loss: 0.4586 - val_accuracy: 0.7778\n",
            "Epoch 7/50\n",
            "1/1 [==============================] - 0s 36ms/step - loss: 0.0116 - accuracy: 1.0000 - val_loss: 0.5032 - val_accuracy: 0.7778\n",
            "Epoch 8/50\n",
            "1/1 [==============================] - 0s 57ms/step - loss: 0.0227 - accuracy: 1.0000 - val_loss: 0.4981 - val_accuracy: 0.7778\n",
            "Epoch 9/50\n",
            "1/1 [==============================] - 0s 50ms/step - loss: 0.0274 - accuracy: 1.0000 - val_loss: 0.4443 - val_accuracy: 0.8333\n",
            "Epoch 10/50\n",
            "1/1 [==============================] - 0s 37ms/step - loss: 0.0305 - accuracy: 1.0000 - val_loss: 0.3930 - val_accuracy: 0.8889\n",
            "Epoch 11/50\n",
            "1/1 [==============================] - 0s 38ms/step - loss: 0.0271 - accuracy: 1.0000 - val_loss: 0.3763 - val_accuracy: 0.8889\n",
            "Epoch 12/50\n",
            "1/1 [==============================] - 0s 36ms/step - loss: 0.0219 - accuracy: 1.0000 - val_loss: 0.3918 - val_accuracy: 0.8889\n",
            "Epoch 13/50\n",
            "1/1 [==============================] - 0s 39ms/step - loss: 0.0311 - accuracy: 1.0000 - val_loss: 0.4042 - val_accuracy: 0.8333\n",
            "Epoch 14/50\n",
            "1/1 [==============================] - 0s 67ms/step - loss: 0.0180 - accuracy: 1.0000 - val_loss: 0.4150 - val_accuracy: 0.8333\n",
            "Epoch 15/50\n",
            "1/1 [==============================] - 0s 39ms/step - loss: 0.0146 - accuracy: 1.0000 - val_loss: 0.4264 - val_accuracy: 0.8333\n",
            "Epoch 16/50\n",
            "1/1 [==============================] - 0s 60ms/step - loss: 0.0110 - accuracy: 1.0000 - val_loss: 0.4376 - val_accuracy: 0.8889\n",
            "Epoch 17/50\n",
            "1/1 [==============================] - 0s 54ms/step - loss: 0.0090 - accuracy: 1.0000 - val_loss: 0.4503 - val_accuracy: 0.8333\n",
            "Epoch 18/50\n",
            "1/1 [==============================] - 0s 43ms/step - loss: 0.0077 - accuracy: 1.0000 - val_loss: 0.4606 - val_accuracy: 0.8333\n",
            "Epoch 19/50\n",
            "1/1 [==============================] - 0s 39ms/step - loss: 0.0073 - accuracy: 1.0000 - val_loss: 0.4690 - val_accuracy: 0.8333\n",
            "Epoch 20/50\n",
            "1/1 [==============================] - 0s 38ms/step - loss: 0.0055 - accuracy: 1.0000 - val_loss: 0.4804 - val_accuracy: 0.8333\n",
            "Epoch 21/50\n",
            "1/1 [==============================] - 0s 44ms/step - loss: 0.0041 - accuracy: 1.0000 - val_loss: 0.4940 - val_accuracy: 0.8333\n",
            "Epoch 22/50\n",
            "1/1 [==============================] - 0s 37ms/step - loss: 0.0024 - accuracy: 1.0000 - val_loss: 0.5092 - val_accuracy: 0.8333\n",
            "Epoch 23/50\n",
            "1/1 [==============================] - 0s 40ms/step - loss: 0.0036 - accuracy: 1.0000 - val_loss: 0.5256 - val_accuracy: 0.8333\n",
            "Epoch 24/50\n",
            "1/1 [==============================] - 0s 55ms/step - loss: 0.0031 - accuracy: 1.0000 - val_loss: 0.5434 - val_accuracy: 0.8889\n",
            "Epoch 25/50\n",
            "1/1 [==============================] - 0s 58ms/step - loss: 0.0011 - accuracy: 1.0000 - val_loss: 0.5613 - val_accuracy: 0.8889\n",
            "Epoch 26/50\n",
            "1/1 [==============================] - 0s 38ms/step - loss: 0.0012 - accuracy: 1.0000 - val_loss: 0.5799 - val_accuracy: 0.8889\n",
            "Epoch 27/50\n",
            "1/1 [==============================] - 0s 37ms/step - loss: 8.2239e-04 - accuracy: 1.0000 - val_loss: 0.5977 - val_accuracy: 0.8889\n",
            "Epoch 28/50\n",
            "1/1 [==============================] - 0s 38ms/step - loss: 0.0019 - accuracy: 1.0000 - val_loss: 0.6149 - val_accuracy: 0.8889\n",
            "Epoch 29/50\n",
            "1/1 [==============================] - 0s 36ms/step - loss: 6.9940e-04 - accuracy: 1.0000 - val_loss: 0.6318 - val_accuracy: 0.8889\n",
            "Epoch 30/50\n",
            "1/1 [==============================] - 0s 57ms/step - loss: 7.3196e-04 - accuracy: 1.0000 - val_loss: 0.6485 - val_accuracy: 0.8889\n",
            "Epoch 31/50\n",
            "1/1 [==============================] - 0s 39ms/step - loss: 4.6489e-04 - accuracy: 1.0000 - val_loss: 0.6646 - val_accuracy: 0.8889\n",
            "Epoch 32/50\n",
            "1/1 [==============================] - 0s 38ms/step - loss: 6.4770e-04 - accuracy: 1.0000 - val_loss: 0.6804 - val_accuracy: 0.8889\n",
            "Epoch 33/50\n",
            "1/1 [==============================] - 0s 39ms/step - loss: 4.9770e-04 - accuracy: 1.0000 - val_loss: 0.6956 - val_accuracy: 0.8889\n",
            "Epoch 34/50\n",
            "1/1 [==============================] - 0s 55ms/step - loss: 3.4250e-04 - accuracy: 1.0000 - val_loss: 0.7101 - val_accuracy: 0.8889\n",
            "Epoch 35/50\n",
            "1/1 [==============================] - 0s 80ms/step - loss: 3.5148e-04 - accuracy: 1.0000 - val_loss: 0.7239 - val_accuracy: 0.8889\n",
            "Epoch 36/50\n",
            "1/1 [==============================] - 0s 53ms/step - loss: 4.9485e-04 - accuracy: 1.0000 - val_loss: 0.7371 - val_accuracy: 0.8889\n",
            "Epoch 37/50\n",
            "1/1 [==============================] - 0s 66ms/step - loss: 1.9351e-04 - accuracy: 1.0000 - val_loss: 0.7495 - val_accuracy: 0.8889\n",
            "Epoch 38/50\n",
            "1/1 [==============================] - 0s 57ms/step - loss: 2.6790e-04 - accuracy: 1.0000 - val_loss: 0.7612 - val_accuracy: 0.8889\n",
            "Epoch 39/50\n",
            "1/1 [==============================] - 0s 76ms/step - loss: 3.8889e-04 - accuracy: 1.0000 - val_loss: 0.7723 - val_accuracy: 0.8889\n",
            "Epoch 40/50\n",
            "1/1 [==============================] - 0s 64ms/step - loss: 1.9149e-04 - accuracy: 1.0000 - val_loss: 0.7827 - val_accuracy: 0.8889\n",
            "Epoch 41/50\n",
            "1/1 [==============================] - 0s 49ms/step - loss: 4.5078e-04 - accuracy: 1.0000 - val_loss: 0.7926 - val_accuracy: 0.8889\n",
            "Epoch 42/50\n",
            "1/1 [==============================] - 0s 66ms/step - loss: 2.5787e-04 - accuracy: 1.0000 - val_loss: 0.8019 - val_accuracy: 0.8889\n",
            "Epoch 43/50\n",
            "1/1 [==============================] - 0s 55ms/step - loss: 1.4846e-04 - accuracy: 1.0000 - val_loss: 0.8105 - val_accuracy: 0.8889\n",
            "Epoch 44/50\n",
            "1/1 [==============================] - 0s 52ms/step - loss: 8.8804e-05 - accuracy: 1.0000 - val_loss: 0.8186 - val_accuracy: 0.8889\n",
            "Epoch 45/50\n",
            "1/1 [==============================] - 0s 75ms/step - loss: 2.6004e-04 - accuracy: 1.0000 - val_loss: 0.8260 - val_accuracy: 0.8889\n",
            "Epoch 46/50\n",
            "1/1 [==============================] - 0s 67ms/step - loss: 1.5107e-04 - accuracy: 1.0000 - val_loss: 0.8330 - val_accuracy: 0.8889\n",
            "Epoch 47/50\n",
            "1/1 [==============================] - 0s 77ms/step - loss: 7.5085e-05 - accuracy: 1.0000 - val_loss: 0.8394 - val_accuracy: 0.8889\n",
            "Epoch 48/50\n",
            "1/1 [==============================] - 0s 71ms/step - loss: 2.4651e-04 - accuracy: 1.0000 - val_loss: 0.8455 - val_accuracy: 0.8889\n",
            "Epoch 49/50\n",
            "1/1 [==============================] - 0s 66ms/step - loss: 1.3549e-04 - accuracy: 1.0000 - val_loss: 0.8512 - val_accuracy: 0.8889\n",
            "Epoch 50/50\n",
            "1/1 [==============================] - 0s 64ms/step - loss: 1.1182e-04 - accuracy: 1.0000 - val_loss: 0.8566 - val_accuracy: 0.8889\n"
          ]
        }
      ],
      "source": [
        "train = model.fit(X_train, Y_train, validation_data=(X_test, Y_test), epochs=50, batch_size=200, verbose=1)"
      ]
    },
    {
      "cell_type": "code",
      "execution_count": 91,
      "metadata": {
        "colab": {
          "base_uri": "https://localhost:8080/"
        },
        "id": "HzYLQJ9GPtBO",
        "outputId": "7199b30f-1f2d-4a45-b1b4-13f46c13c26a"
      },
      "outputs": [
        {
          "name": "stdout",
          "output_type": "stream",
          "text": [
            "Score : 88.89%\n"
          ]
        }
      ],
      "source": [
        "scores = model.evaluate(X_test, Y_test, verbose=0)\n",
        "print(\"Score : %.2f%%\" % (scores[1]*100))\n"
      ]
    },
    {
      "cell_type": "code",
      "execution_count": 91,
      "metadata": {
        "id": "It-2DxUTPtMp"
      },
      "outputs": [],
      "source": []
    }
  ],
  "metadata": {
    "colab": {
      "provenance": []
    },
    "kernelspec": {
      "display_name": "Python 3",
      "name": "python3"
    },
    "language_info": {
      "codemirror_mode": {
        "name": "ipython",
        "version": 3
      },
      "file_extension": ".py",
      "mimetype": "text/x-python",
      "name": "python",
      "nbconvert_exporter": "python",
      "pygments_lexer": "ipython3",
      "version": "3.12.0"
    }
  },
  "nbformat": 4,
  "nbformat_minor": 0
}
